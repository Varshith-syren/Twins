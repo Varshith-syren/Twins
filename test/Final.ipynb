{
 "cells": [
  {
   "cell_type": "code",
   "execution_count": 1,
   "id": "85b92188-1091-4ee3-8c0a-fb223d098613",
   "metadata": {},
   "outputs": [],
   "source": [
    "import pandas as pd\n",
    "import numpy as np\n",
    "import matplotlib.pyplot as plt\n",
    "from sklearn.metrics import mean_absolute_error,root_mean_squared_error,r2_score\n",
    "from sklearn.preprocessing import StandardScaler\n",
    "from sklearn.pipeline import Pipeline\n",
    "from sklearn.model_selection import GridSearchCV, TimeSeriesSplit\n",
    "from sklearn.ensemble import GradientBoostingRegressor\n",
    "from catboost import CatBoostRegressor"
   ]
  },
  {
   "cell_type": "code",
   "execution_count": 2,
   "id": "925873e0-29fd-4906-9006-207ec17a4029",
   "metadata": {},
   "outputs": [],
   "source": [
    "df=pd.read_csv('train.csv')\n",
    "df['date']=pd.to_datetime(dict(year=df.year,month=df.month,day=df.day))\n",
    "df.sort_values(['date'],inplace=True)\n",
    "df.reset_index(inplace=True,drop=True)\n",
    "date=df.pop('date')"
   ]
  },
  {
   "cell_type": "code",
   "execution_count": 3,
   "id": "bce4c2ea-2df1-498e-a513-23d16d386525",
   "metadata": {},
   "outputs": [],
   "source": [
    "df.dropna(subset=['air temp.'],inplace=True)\n",
    "df['zon.winds'].fillna(np.random.normal(np.mean(df['zon.winds']),np.std(df['zon.winds'])),inplace=True)\n",
    "df['mer.winds'].fillna(np.random.normal(np.mean(df['mer.winds']),np.std(df['mer.winds'])),inplace=True)\n",
    "df['humidity'].fillna(np.random.normal(np.mean(df['humidity']),np.std(df['humidity'])),inplace=True)"
   ]
  },
  {
   "cell_type": "code",
   "execution_count": 4,
   "id": "8c23ea5a-7fbe-48dc-bc52-983e91265361",
   "metadata": {},
   "outputs": [],
   "source": [
    "x=df.iloc[:,:-1]\n",
    "y=df.iloc[:,-1]"
   ]
  },
  {
   "cell_type": "code",
   "execution_count": 5,
   "id": "9ddea13f-781e-49a3-870c-fbc8a3fbedbc",
   "metadata": {},
   "outputs": [],
   "source": [
    "tss=TimeSeriesSplit(n_splits=3)\n",
    "for train,test in tss.split(x):\n",
    "    x_train,x_test=x.iloc[train,:],x.iloc[test,:]\n",
    "    y_train,y_test=y.iloc[train],y.iloc[test]"
   ]
  },
  {
   "cell_type": "code",
   "execution_count": 6,
   "id": "fa51635a-4615-4a4c-8c39-d4d1eec7ca70",
   "metadata": {},
   "outputs": [
    {
     "data": {
      "text/plain": [
       "<matplotlib.collections.PathCollection at 0x14b10533250>"
      ]
     },
     "execution_count": 6,
     "metadata": {},
     "output_type": "execute_result"
    },
    {
     "data": {
      "image/png": "[encoded data removed]",
      "text/plain": [
       "<Figure size 640x480 with 1 Axes>"
      ]
     },
     "metadata": {},
     "output_type": "display_data"
    }
   ],
   "source": [
    "mod=Pipeline([('scale',StandardScaler()),\n",
    "              ('model',GradientBoostingRegressor(n_estimators=90))])\n",
    "mod=GridSearchCV(estimator=mod,\n",
    "                 param_grid={'model__n_estimators':range(100,111)},\n",
    "                 cv=3)\n",
    "mod.fit(X=x_train,y=y_train)\n",
    "pred=mod.predict(x_test)\n",
    "plt.scatter(pred,y_test)"
   ]
  },
  {
   "cell_type": "code",
   "execution_count": 7,
   "id": "cd25876b-ec38-4d6c-b344-21401446c4bf",
   "metadata": {},
   "outputs": [
    {
     "data": {
      "text/plain": [
       "0.40035720154941273"
      ]
     },
     "execution_count": 7,
     "metadata": {},
     "output_type": "execute_result"
    }
   ],
   "source": [
    "mean_absolute_error(y_test,pred)"
   ]
  },
  {
   "cell_type": "code",
   "execution_count": 8,
   "id": "00af8f37-3ad2-4fc4-82c3-01128b024598",
   "metadata": {},
   "outputs": [
    {
     "data": {
      "text/plain": [
       "0.5101423113596356"
      ]
     },
     "execution_count": 8,
     "metadata": {},
     "output_type": "execute_result"
    }
   ],
   "source": [
    "root_mean_squared_error(y_test,pred)"
   ]
  },
  {
   "cell_type": "code",
   "execution_count": 9,
   "id": "3412fb47-94ec-4962-b9c6-ca7c7a74496d",
   "metadata": {},
   "outputs": [
    {
     "data": {
      "text/plain": [
       "0.9516118635150483"
      ]
     },
     "execution_count": 9,
     "metadata": {},
     "output_type": "execute_result"
    }
   ],
   "source": [
    "r2_score(y_test,pred)"
   ]
  },
  {
   "cell_type": "code",
   "execution_count": 10,
   "id": "437429ff-316e-4ead-af8b-048ed445f30a",
   "metadata": {},
   "outputs": [
    {
     "data": {
      "text/html": [
       "<div>\n",
       "<style scoped>\n",
       "    .dataframe tbody tr th:only-of-type {\n",
       "        vertical-align: middle;\n",
       "    }\n",
       "\n",
       "    .dataframe tbody tr th {\n",
       "        vertical-align: top;\n",
       "    }\n",
       "\n",
       "    .dataframe thead th {\n",
       "        text-align: right;\n",
       "    }\n",
       "</style>\n",
       "<table border=\"1\" class=\"dataframe\">\n",
       "  <thead>\n",
       "    <tr style=\"text-align: right;\">\n",
       "      <th></th>\n",
       "      <th>mean_fit_time</th>\n",
       "      <th>std_fit_time</th>\n",
       "      <th>mean_score_time</th>\n",
       "      <th>std_score_time</th>\n",
       "      <th>param_model__n_estimators</th>\n",
       "      <th>params</th>\n",
       "      <th>split0_test_score</th>\n",
       "      <th>split1_test_score</th>\n",
       "      <th>split2_test_score</th>\n",
       "      <th>mean_test_score</th>\n",
       "      <th>std_test_score</th>\n",
       "      <th>rank_test_score</th>\n",
       "    </tr>\n",
       "  </thead>\n",
       "  <tbody>\n",
       "    <tr>\n",
       "      <th>0</th>\n",
       "      <td>3.772835</td>\n",
       "      <td>0.044474</td>\n",
       "      <td>0.031810</td>\n",
       "      <td>2.489103e-03</td>\n",
       "      <td>100</td>\n",
       "      <td>{'model__n_estimators': 100}</td>\n",
       "      <td>0.956147</td>\n",
       "      <td>0.930330</td>\n",
       "      <td>0.945317</td>\n",
       "      <td>0.943931</td>\n",
       "      <td>0.010585</td>\n",
       "      <td>11</td>\n",
       "    </tr>\n",
       "    <tr>\n",
       "      <th>1</th>\n",
       "      <td>3.772290</td>\n",
       "      <td>0.083079</td>\n",
       "      <td>0.022754</td>\n",
       "      <td>1.013684e-02</td>\n",
       "      <td>101</td>\n",
       "      <td>{'model__n_estimators': 101}</td>\n",
       "      <td>0.956185</td>\n",
       "      <td>0.930405</td>\n",
       "      <td>0.945363</td>\n",
       "      <td>0.943984</td>\n",
       "      <td>0.010569</td>\n",
       "      <td>10</td>\n",
       "    </tr>\n",
       "    <tr>\n",
       "      <th>2</th>\n",
       "      <td>3.748118</td>\n",
       "      <td>0.128726</td>\n",
       "      <td>0.031639</td>\n",
       "      <td>5.448998e-04</td>\n",
       "      <td>102</td>\n",
       "      <td>{'model__n_estimators': 102}</td>\n",
       "      <td>0.956145</td>\n",
       "      <td>0.930471</td>\n",
       "      <td>0.945472</td>\n",
       "      <td>0.944030</td>\n",
       "      <td>0.010531</td>\n",
       "      <td>9</td>\n",
       "    </tr>\n",
       "    <tr>\n",
       "      <th>3</th>\n",
       "      <td>3.779185</td>\n",
       "      <td>0.150577</td>\n",
       "      <td>0.030424</td>\n",
       "      <td>1.163142e-03</td>\n",
       "      <td>103</td>\n",
       "      <td>{'model__n_estimators': 103}</td>\n",
       "      <td>0.956150</td>\n",
       "      <td>0.930543</td>\n",
       "      <td>0.945503</td>\n",
       "      <td>0.944065</td>\n",
       "      <td>0.010503</td>\n",
       "      <td>8</td>\n",
       "    </tr>\n",
       "    <tr>\n",
       "      <th>4</th>\n",
       "      <td>3.664605</td>\n",
       "      <td>0.146789</td>\n",
       "      <td>0.031246</td>\n",
       "      <td>3.170957e-06</td>\n",
       "      <td>104</td>\n",
       "      <td>{'model__n_estimators': 104}</td>\n",
       "      <td>0.956191</td>\n",
       "      <td>0.930616</td>\n",
       "      <td>0.945533</td>\n",
       "      <td>0.944113</td>\n",
       "      <td>0.010489</td>\n",
       "      <td>7</td>\n",
       "    </tr>\n",
       "    <tr>\n",
       "      <th>5</th>\n",
       "      <td>3.618986</td>\n",
       "      <td>0.050697</td>\n",
       "      <td>0.026036</td>\n",
       "      <td>7.359516e-03</td>\n",
       "      <td>105</td>\n",
       "      <td>{'model__n_estimators': 105}</td>\n",
       "      <td>0.956223</td>\n",
       "      <td>0.930559</td>\n",
       "      <td>0.945681</td>\n",
       "      <td>0.944154</td>\n",
       "      <td>0.010533</td>\n",
       "      <td>5</td>\n",
       "    </tr>\n",
       "    <tr>\n",
       "      <th>6</th>\n",
       "      <td>3.626074</td>\n",
       "      <td>0.050951</td>\n",
       "      <td>0.031246</td>\n",
       "      <td>7.018853e-07</td>\n",
       "      <td>106</td>\n",
       "      <td>{'model__n_estimators': 106}</td>\n",
       "      <td>0.956235</td>\n",
       "      <td>0.930501</td>\n",
       "      <td>0.945719</td>\n",
       "      <td>0.944152</td>\n",
       "      <td>0.010564</td>\n",
       "      <td>6</td>\n",
       "    </tr>\n",
       "    <tr>\n",
       "      <th>7</th>\n",
       "      <td>3.696185</td>\n",
       "      <td>0.101422</td>\n",
       "      <td>0.026040</td>\n",
       "      <td>7.363335e-03</td>\n",
       "      <td>107</td>\n",
       "      <td>{'model__n_estimators': 107}</td>\n",
       "      <td>0.956295</td>\n",
       "      <td>0.930642</td>\n",
       "      <td>0.945731</td>\n",
       "      <td>0.944223</td>\n",
       "      <td>0.010527</td>\n",
       "      <td>4</td>\n",
       "    </tr>\n",
       "    <tr>\n",
       "      <th>8</th>\n",
       "      <td>3.718072</td>\n",
       "      <td>0.067280</td>\n",
       "      <td>0.031244</td>\n",
       "      <td>1.593426e-06</td>\n",
       "      <td>108</td>\n",
       "      <td>{'model__n_estimators': 108}</td>\n",
       "      <td>0.956300</td>\n",
       "      <td>0.930686</td>\n",
       "      <td>0.945788</td>\n",
       "      <td>0.944258</td>\n",
       "      <td>0.010513</td>\n",
       "      <td>3</td>\n",
       "    </tr>\n",
       "    <tr>\n",
       "      <th>9</th>\n",
       "      <td>3.761360</td>\n",
       "      <td>0.050816</td>\n",
       "      <td>0.031247</td>\n",
       "      <td>5.150430e-07</td>\n",
       "      <td>109</td>\n",
       "      <td>{'model__n_estimators': 109}</td>\n",
       "      <td>0.956308</td>\n",
       "      <td>0.930730</td>\n",
       "      <td>0.945890</td>\n",
       "      <td>0.944309</td>\n",
       "      <td>0.010502</td>\n",
       "      <td>2</td>\n",
       "    </tr>\n",
       "    <tr>\n",
       "      <th>10</th>\n",
       "      <td>3.791310</td>\n",
       "      <td>0.066920</td>\n",
       "      <td>0.034572</td>\n",
       "      <td>4.703307e-03</td>\n",
       "      <td>110</td>\n",
       "      <td>{'model__n_estimators': 110}</td>\n",
       "      <td>0.956302</td>\n",
       "      <td>0.930843</td>\n",
       "      <td>0.945980</td>\n",
       "      <td>0.944375</td>\n",
       "      <td>0.010455</td>\n",
       "      <td>1</td>\n",
       "    </tr>\n",
       "  </tbody>\n",
       "</table>\n",
       "</div>"
      ],
      "text/plain": [
       "    mean_fit_time  std_fit_time  mean_score_time  std_score_time  \\\n",
       "0        3.772835      0.044474         0.031810    2.489103e-03   \n",
       "1        3.772290      0.083079         0.022754    1.013684e-02   \n",
       "2        3.748118      0.128726         0.031639    5.448998e-04   \n",
       "3        3.779185      0.150577         0.030424    1.163142e-03   \n",
       "4        3.664605      0.146789         0.031246    3.170957e-06   \n",
       "5        3.618986      0.050697         0.026036    7.359516e-03   \n",
       "6        3.626074      0.050951         0.031246    7.018853e-07   \n",
       "7        3.696185      0.101422         0.026040    7.363335e-03   \n",
       "8        3.718072      0.067280         0.031244    1.593426e-06   \n",
       "9        3.761360      0.050816         0.031247    5.150430e-07   \n",
       "10       3.791310      0.066920         0.034572    4.703307e-03   \n",
       "\n",
       "    param_model__n_estimators                        params  \\\n",
       "0                         100  {'model__n_estimators': 100}   \n",
       "1                         101  {'model__n_estimators': 101}   \n",
       "2                         102  {'model__n_estimators': 102}   \n",
       "3                         103  {'model__n_estimators': 103}   \n",
       "4                         104  {'model__n_estimators': 104}   \n",
       "5                         105  {'model__n_estimators': 105}   \n",
       "6                         106  {'model__n_estimators': 106}   \n",
       "7                         107  {'model__n_estimators': 107}   \n",
       "8                         108  {'model__n_estimators': 108}   \n",
       "9                         109  {'model__n_estimators': 109}   \n",
       "10                        110  {'model__n_estimators': 110}   \n",
       "\n",
       "    split0_test_score  split1_test_score  split2_test_score  mean_test_score  \\\n",
       "0            0.956147           0.930330           0.945317         0.943931   \n",
       "1            0.956185           0.930405           0.945363         0.943984   \n",
       "2            0.956145           0.930471           0.945472         0.944030   \n",
       "3            0.956150           0.930543           0.945503         0.944065   \n",
       "4            0.956191           0.930616           0.945533         0.944113   \n",
       "5            0.956223           0.930559           0.945681         0.944154   \n",
       "6            0.956235           0.930501           0.945719         0.944152   \n",
       "7            0.956295           0.930642           0.945731         0.944223   \n",
       "8            0.956300           0.930686           0.945788         0.944258   \n",
       "9            0.956308           0.930730           0.945890         0.944309   \n",
       "10           0.956302           0.930843           0.945980         0.944375   \n",
       "\n",
       "    std_test_score  rank_test_score  \n",
       "0         0.010585               11  \n",
       "1         0.010569               10  \n",
       "2         0.010531                9  \n",
       "3         0.010503                8  \n",
       "4         0.010489                7  \n",
       "5         0.010533                5  \n",
       "6         0.010564                6  \n",
       "7         0.010527                4  \n",
       "8         0.010513                3  \n",
       "9         0.010502                2  \n",
       "10        0.010455                1  "
      ]
     },
     "execution_count": 10,
     "metadata": {},
     "output_type": "execute_result"
    }
   ],
   "source": [
    "pd.DataFrame(mod.cv_results_)"
   ]
  },
  {
   "cell_type": "code",
   "execution_count": 11,
   "id": "f6ddd096-94d2-4220-93da-76da24aae339",
   "metadata": {},
   "outputs": [],
   "source": [
    "df=pd.read_csv('evaluation.csv')\n",
    "df['date']=pd.to_datetime(dict(year=df.year,month=df.month,day=df.day))\n",
    "df.sort_values(['date'],inplace=True)\n",
    "df.reset_index(inplace=True,drop=True)\n",
    "date=df.pop('date')"
   ]
  },
  {
   "cell_type": "code",
   "execution_count": 12,
   "id": "4333700b-4f9c-45f2-9d26-fa023a46d880",
   "metadata": {},
   "outputs": [],
   "source": [
    "df['air temp.'].fillna(np.random.normal(np.mean(df['air temp.']),np.std(df['air temp.'])),inplace=True)\n",
    "df['zon.winds'].fillna(np.random.normal(np.mean(df['zon.winds']),np.std(df['zon.winds'])),inplace=True)\n",
    "df['mer.winds'].fillna(np.random.normal(np.mean(df['mer.winds']),np.std(df['mer.winds'])),inplace=True)\n",
    "df['humidity'].fillna(np.random.normal(np.mean(df['humidity']),np.std(df['humidity'])),inplace=True)\n",
    "df.drop(['Unnamed: 0'],axis=1,inplace=True)"
   ]
  },
  {
   "cell_type": "code",
   "execution_count": 13,
   "id": "d5058e88-cb5b-4ad4-bf65-508955207582",
   "metadata": {},
   "outputs": [],
   "source": [
    "pred=mod.predict(df)\n",
    "pred=pd.DataFrame(pred,columns=['s.s.temp.'])\n",
    "df_pred=pd.concat([df,pred],axis=1)\n",
    "df_pred.to_csv('eval_pred.csv')"
   ]
  },
  {
   "cell_type": "code",
   "execution_count": 14,
   "id": "1e2a7418-a362-4499-8ee4-ead99bb4eb0c",
   "metadata": {},
   "outputs": [],
   "source": [
    "df=pd.read_csv('data_1997_1998.csv')\n",
    "df['date']=pd.to_datetime(dict(year=df.year,month=df.month,day=df.day))\n",
    "df.sort_values(['date'],inplace=True)\n",
    "df.reset_index(inplace=True,drop=True)\n",
    "date=df.pop('date')"
   ]
  },
  {
   "cell_type": "code",
   "execution_count": 15,
   "id": "4ad38400-aee1-4a52-9db5-515913e3cad4",
   "metadata": {},
   "outputs": [],
   "source": [
    "df['air temp.'].fillna(np.random.normal(np.mean(df['air temp.']),np.std(df['air temp.'])),inplace=True)\n",
    "df['zon.winds'].fillna(np.random.normal(np.mean(df['zon.winds']),np.std(df['zon.winds'])),inplace=True)\n",
    "df['mer.winds'].fillna(np.random.normal(np.mean(df['mer.winds']),np.std(df['mer.winds'])),inplace=True)\n",
    "df['humidity'].fillna(np.random.normal(np.mean(df['humidity']),np.std(df['humidity'])),inplace=True)\n",
    "df.drop(['Index'],axis=1,inplace=True)"
   ]
  },
  {
   "cell_type": "code",
   "execution_count": 16,
   "id": "586bc281-6f8b-43af-a85c-58a32bbaebb3",
   "metadata": {},
   "outputs": [],
   "source": [
    "pred=mod.predict(df)\n",
    "pred=pd.DataFrame(pred,columns=['s.s.temp.'])\n",
    "df_pred=pd.concat([df,pred],axis=1)\n",
    "df_pred.to_csv('1997_1998_pred.csv')"
   ]
  },
  {
   "cell_type": "code",
   "execution_count": null,
   "id": "7596fa96-757b-480f-a8e7-e9a20f0b6183",
   "metadata": {},
   "outputs": [],
   "source": []
  }
 ],
 "metadata": {
  "kernelspec": {
   "display_name": "Python 3 (ipykernel)",
   "language": "python",
   "name": "python3"
  },
  "language_info": {
   "codemirror_mode": {
    "name": "ipython",
    "version": 3
   },
   "file_extension": ".py",
   "mimetype": "text/x-python",
   "name": "python",
   "nbconvert_exporter": "python",
   "pygments_lexer": "ipython3",
   "version": "3.11.7"
  }
 },
 "nbformat": 4,
 "nbformat_minor": 5
}
