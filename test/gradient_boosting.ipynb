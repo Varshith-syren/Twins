{
 "cells": [
  {
   "cell_type": "code",
   "execution_count": 19,
   "id": "777478e9-f401-4aa1-80f0-3fc6e25f8c4b",
   "metadata": {
    "tags": []
   },
   "outputs": [],
   "source": [
    "import pandas as pd\n",
    "import numpy as np\n",
    "import matplotlib.pyplot as plt\n",
    "from sklearn.preprocessing import MinMaxScaler,StandardScaler\n",
    "from sklearn.model_selection import train_test_split\n",
    "from keras.preprocessing.sequence import TimeseriesGenerator\n",
    "import tensorflow as tf\n",
    "from datetime import datetime"
   ]
  },
  {
   "cell_type": "code",
   "execution_count": 46,
   "id": "e5252a5a-cedc-4ddc-8f99-57eac4344320",
   "metadata": {
    "tags": []
   },
   "outputs": [
    {
     "ename": "IndentationError",
     "evalue": "unexpected indent (1353026009.py, line 2)",
     "output_type": "error",
     "traceback": [
      "\u001b[1;36m  Cell \u001b[1;32mIn[46], line 2\u001b[1;36m\u001b[0m\n\u001b[1;33m    return datetime.strptime(x, '%Y %m %d')\u001b[0m\n\u001b[1;37m    ^\u001b[0m\n\u001b[1;31mIndentationError\u001b[0m\u001b[1;31m:\u001b[0m unexpected indent\n"
     ]
    }
   ],
   "source": [
    "#def convert_to_date(x):\n",
    "  #  return datetime.strptime(x, '%Y %m %d')"
   ]
  },
  {
   "cell_type": "code",
   "execution_count": 27,
   "id": "d215a02e-b61c-44bd-8585-c882e370ecb9",
   "metadata": {
    "tags": []
   },
   "outputs": [
    {
     "name": "stderr",
     "output_type": "stream",
     "text": [
      "C:\\Users\\DELL\\AppData\\Local\\Temp\\ipykernel_31360\\3957504781.py:1: FutureWarning: The argument 'date_parser' is deprecated and will be removed in a future version. Please use 'date_format' instead, or read your data in as 'object' dtype and then call 'to_datetime'.\n",
      "  data=pd.read_csv('twins_1992-1997.csv',parse_dates=[['year','month','day']],date_parser=convert_to_date,keep_date_col=False)\n"
     ]
    }
   ],
   "source": [
    "#data=pd.read_csv('twins_1992-1997.csv',parse_dates=[['year','month','day']],date_parser=convert_to_date,keep_date_col=False)"
   ]
  },
  {
   "cell_type": "code",
   "execution_count": 48,
   "id": "e3ea15fb-4a8f-4b12-980f-70966dc41bc9",
   "metadata": {
    "tags": []
   },
   "outputs": [],
   "source": [
    "data=pd.read_csv('twins_1992-1997.csv')"
   ]
  },
  {
   "cell_type": "code",
   "execution_count": 50,
   "id": "a1710dca-c2e2-4ab2-bc30-aafaaff46917",
   "metadata": {
    "tags": []
   },
   "outputs": [
    {
     "data": {
      "text/html": [
       "<div>\n",
       "<style scoped>\n",
       "    .dataframe tbody tr th:only-of-type {\n",
       "        vertical-align: middle;\n",
       "    }\n",
       "\n",
       "    .dataframe tbody tr th {\n",
       "        vertical-align: top;\n",
       "    }\n",
       "\n",
       "    .dataframe thead th {\n",
       "        text-align: right;\n",
       "    }\n",
       "</style>\n",
       "<table border=\"1\" class=\"dataframe\">\n",
       "  <thead>\n",
       "    <tr style=\"text-align: right;\">\n",
       "      <th></th>\n",
       "      <th>year</th>\n",
       "      <th>month</th>\n",
       "      <th>day</th>\n",
       "      <th>latitude</th>\n",
       "      <th>longitude</th>\n",
       "      <th>zon.winds</th>\n",
       "      <th>mer.winds</th>\n",
       "      <th>humidity</th>\n",
       "      <th>air temp.</th>\n",
       "      <th>s.s.temp.</th>\n",
       "    </tr>\n",
       "  </thead>\n",
       "  <tbody>\n",
       "    <tr>\n",
       "      <th>0</th>\n",
       "      <td>1992</td>\n",
       "      <td>1</td>\n",
       "      <td>1</td>\n",
       "      <td>5.01</td>\n",
       "      <td>-110.00</td>\n",
       "      <td>-3.3</td>\n",
       "      <td>3.6</td>\n",
       "      <td>NaN</td>\n",
       "      <td>26.39</td>\n",
       "      <td>27.40</td>\n",
       "    </tr>\n",
       "    <tr>\n",
       "      <th>1</th>\n",
       "      <td>1992</td>\n",
       "      <td>1</td>\n",
       "      <td>1</td>\n",
       "      <td>1.98</td>\n",
       "      <td>-140.40</td>\n",
       "      <td>-4.4</td>\n",
       "      <td>4.1</td>\n",
       "      <td>NaN</td>\n",
       "      <td>27.75</td>\n",
       "      <td>28.27</td>\n",
       "    </tr>\n",
       "    <tr>\n",
       "      <th>2</th>\n",
       "      <td>1992</td>\n",
       "      <td>1</td>\n",
       "      <td>1</td>\n",
       "      <td>5.00</td>\n",
       "      <td>-140.00</td>\n",
       "      <td>NaN</td>\n",
       "      <td>NaN</td>\n",
       "      <td>NaN</td>\n",
       "      <td>26.70</td>\n",
       "      <td>28.27</td>\n",
       "    </tr>\n",
       "    <tr>\n",
       "      <th>3</th>\n",
       "      <td>1992</td>\n",
       "      <td>1</td>\n",
       "      <td>1</td>\n",
       "      <td>-2.00</td>\n",
       "      <td>156.00</td>\n",
       "      <td>9.6</td>\n",
       "      <td>4.3</td>\n",
       "      <td>NaN</td>\n",
       "      <td>27.77</td>\n",
       "      <td>29.39</td>\n",
       "    </tr>\n",
       "    <tr>\n",
       "      <th>4</th>\n",
       "      <td>1992</td>\n",
       "      <td>1</td>\n",
       "      <td>1</td>\n",
       "      <td>8.04</td>\n",
       "      <td>-110.06</td>\n",
       "      <td>NaN</td>\n",
       "      <td>NaN</td>\n",
       "      <td>86.3</td>\n",
       "      <td>26.72</td>\n",
       "      <td>27.30</td>\n",
       "    </tr>\n",
       "  </tbody>\n",
       "</table>\n",
       "</div>"
      ],
      "text/plain": [
       "   year  month  day  latitude  longitude  zon.winds  mer.winds  humidity  \\\n",
       "0  1992      1    1      5.01    -110.00       -3.3        3.6       NaN   \n",
       "1  1992      1    1      1.98    -140.40       -4.4        4.1       NaN   \n",
       "2  1992      1    1      5.00    -140.00        NaN        NaN       NaN   \n",
       "3  1992      1    1     -2.00     156.00        9.6        4.3       NaN   \n",
       "4  1992      1    1      8.04    -110.06        NaN        NaN      86.3   \n",
       "\n",
       "   air temp.  s.s.temp.  \n",
       "0      26.39      27.40  \n",
       "1      27.75      28.27  \n",
       "2      26.70      28.27  \n",
       "3      27.77      29.39  \n",
       "4      26.72      27.30  "
      ]
     },
     "execution_count": 50,
     "metadata": {},
     "output_type": "execute_result"
    }
   ],
   "source": [
    "data.head()"
   ]
  },
  {
   "cell_type": "code",
   "execution_count": 52,
   "id": "c8e8edbb-5107-43b9-832e-90fa3d54f828",
   "metadata": {
    "tags": []
   },
   "outputs": [
    {
     "name": "stdout",
     "output_type": "stream",
     "text": [
      "<class 'pandas.core.frame.DataFrame'>\n",
      "RangeIndex: 77506 entries, 0 to 77505\n",
      "Data columns (total 10 columns):\n",
      " #   Column     Non-Null Count  Dtype  \n",
      "---  ------     --------------  -----  \n",
      " 0   year       77506 non-null  int64  \n",
      " 1   month      77506 non-null  int64  \n",
      " 2   day        77506 non-null  int64  \n",
      " 3   latitude   77506 non-null  float64\n",
      " 4   longitude  77506 non-null  float64\n",
      " 5   zon.winds  66895 non-null  float64\n",
      " 6   mer.winds  66895 non-null  float64\n",
      " 7   humidity   62674 non-null  float64\n",
      " 8   air temp.  72158 non-null  float64\n",
      " 9   s.s.temp.  77506 non-null  float64\n",
      "dtypes: float64(7), int64(3)\n",
      "memory usage: 5.9 MB\n"
     ]
    }
   ],
   "source": [
    "data.info()"
   ]
  },
  {
   "cell_type": "code",
   "execution_count": 54,
   "id": "c8d14330-242c-4935-8f5c-1faefcf6b018",
   "metadata": {
    "tags": []
   },
   "outputs": [],
   "source": [
    "data['humidity'].interpolate(inplace=True)\n"
   ]
  },
  {
   "cell_type": "code",
   "execution_count": 56,
   "id": "888e9a1d-d3f5-49a7-954b-5d07b2eb6b49",
   "metadata": {
    "tags": []
   },
   "outputs": [],
   "source": [
    "data['zon.winds'].fillna(np.random.normal(data['zon.winds'].mean(),data['zon.winds'].std()),inplace=True)\n",
    "data['mer.winds'].fillna(np.random.normal(data['mer.winds'].mean(),data['mer.winds'].std()),inplace=True)"
   ]
  },
  {
   "cell_type": "code",
   "execution_count": 58,
   "id": "d9a12587-bd48-4a10-8129-d48a3e5a855d",
   "metadata": {
    "tags": []
   },
   "outputs": [],
   "source": [
    "data['humidity']=data['humidity'].fillna(data['humidity'].mean(),)"
   ]
  },
  {
   "cell_type": "code",
   "execution_count": 60,
   "id": "7a5033cb-4e52-4490-a94d-09bde4d12d4a",
   "metadata": {
    "tags": []
   },
   "outputs": [],
   "source": [
    "data=data.dropna(subset=['air temp.'])"
   ]
  },
  {
   "cell_type": "code",
   "execution_count": 78,
   "id": "79243042-412b-42ec-83b8-f5578f2f57de",
   "metadata": {
    "tags": []
   },
   "outputs": [
    {
     "data": {
      "text/plain": [
       "year         72158\n",
       "month        72158\n",
       "day          72158\n",
       "latitude     72158\n",
       "longitude    72158\n",
       "zon.winds    72158\n",
       "mer.winds    72158\n",
       "humidity     72158\n",
       "air temp.    72158\n",
       "s.s.temp.    72158\n",
       "dtype: int64"
      ]
     },
     "execution_count": 78,
     "metadata": {},
     "output_type": "execute_result"
    }
   ],
   "source": [
    "data.count()"
   ]
  },
  {
   "cell_type": "code",
   "execution_count": 80,
   "id": "90d9e4c5-4249-4327-aa56-4dc15aef1679",
   "metadata": {},
   "outputs": [],
   "source": [
    "import pandas as pd\n",
    "from sklearn.model_selection import train_test_split\n",
    "from sklearn.preprocessing import StandardScaler\n",
    "from sklearn.ensemble import GradientBoostingRegressor"
   ]
  },
  {
   "cell_type": "code",
   "execution_count": 82,
   "id": "e2dfa49d-3661-47f6-8de3-782cff0f3a4e",
   "metadata": {
    "tags": []
   },
   "outputs": [
    {
     "name": "stdout",
     "output_type": "stream",
     "text": [
      "Mean Squared Error: 0.00027238410695744634\n",
      "R-squared: 0.999932530672359\n"
     ]
    }
   ],
   "source": [
    "\n",
    "scaler = StandardScaler()\n",
    "scaled_data = scaler.fit_transform(data)\n",
    "\n",
    "\n",
    "X = scaled_data \n",
    "y = data[\"s.s.temp.\"] \n",
    "X_train, X_test, y_train, y_test = train_test_split(X, y, test_size=0.2, random_state=0)\n",
    "\n",
    "\n",
    "model = GradientBoostingRegressor()\n",
    "model.fit(X_train, y_train)\n",
    "\n",
    "y_pred = model.predict(X_test)\n",
    "from sklearn.metrics import mean_squared_error, r2_score\n",
    "mse = mean_squared_error(y_test, y_pred)\n",
    "r2 = r2_score(y_test, y_pred)\n",
    "print(f\"Mean Squared Error: {mse}\")\n",
    "print(f\"R-squared: {r2}\")"
   ]
  },
  {
   "cell_type": "markdown",
   "id": "0c535c37-db1d-40ad-b87a-e2bc64091ca8",
   "metadata": {},
   "source": [
    "# Model deployment (for making predictions on new data)\n",
    "new_data = pd.DataFrame({  # Replace with your new data structure\n",
    "    # ... (Add your data features here) (all numeric)\n",
    "})\n",
    "\n",
    "# Preprocess new data using the same scale\n",
    "\n",
    "new_data_scaled = scaler.transform(new_data)\n",
    "\n",
    "new_data_pred = model.predict(new_data_scaled)\n",
    "print(f\"Predicted s.s.temp. for new data: {new_data_pred}\")"
   ]
  },
  {
   "cell_type": "code",
   "execution_count": null,
   "id": "5090fde6-86c6-438e-a5af-ef6d906a4637",
   "metadata": {},
   "outputs": [],
   "source": []
  }
 ],
 "metadata": {
  "kernelspec": {
   "display_name": "Python 3 (ipykernel)",
   "language": "python",
   "name": "python3"
  },
  "language_info": {
   "codemirror_mode": {
    "name": "ipython",
    "version": 3
   },
   "file_extension": ".py",
   "mimetype": "text/x-python",
   "name": "python",
   "nbconvert_exporter": "python",
   "pygments_lexer": "ipython3",
   "version": "3.11.7"
  }
 },
 "nbformat": 4,
 "nbformat_minor": 5
}
