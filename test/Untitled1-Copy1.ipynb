{
 "cells": [
  {
   "cell_type": "code",
   "execution_count": 1,
   "id": "132978de-fa3c-46ad-bf02-bbe9b43f771d",
   "metadata": {},
   "outputs": [],
   "source": [
    "import pandas as pd\n",
    "import numpy as np\n",
    "import matplotlib.pyplot as plt"
   ]
  },
  {
   "cell_type": "code",
   "execution_count": 2,
   "id": "4c0228dc-2ba2-4142-8140-ccb82ad49ac4",
   "metadata": {},
   "outputs": [
    {
     "data": {
      "text/html": [
       "<div>\n",
       "<style scoped>\n",
       "    .dataframe tbody tr th:only-of-type {\n",
       "        vertical-align: middle;\n",
       "    }\n",
       "\n",
       "    .dataframe tbody tr th {\n",
       "        vertical-align: top;\n",
       "    }\n",
       "\n",
       "    .dataframe thead th {\n",
       "        text-align: right;\n",
       "    }\n",
       "</style>\n",
       "<table border=\"1\" class=\"dataframe\">\n",
       "  <thead>\n",
       "    <tr style=\"text-align: right;\">\n",
       "      <th></th>\n",
       "      <th>date</th>\n",
       "      <th>year</th>\n",
       "      <th>month</th>\n",
       "      <th>day</th>\n",
       "      <th>latitude</th>\n",
       "      <th>longitude</th>\n",
       "      <th>zon.winds</th>\n",
       "      <th>mer.winds</th>\n",
       "      <th>humidity</th>\n",
       "      <th>air temp.</th>\n",
       "      <th>s.s.temp.</th>\n",
       "    </tr>\n",
       "  </thead>\n",
       "  <tbody>\n",
       "    <tr>\n",
       "      <th>0</th>\n",
       "      <td>1992-12-13</td>\n",
       "      <td>1992</td>\n",
       "      <td>12</td>\n",
       "      <td>13</td>\n",
       "      <td>-4.99</td>\n",
       "      <td>156.0</td>\n",
       "      <td>4.8</td>\n",
       "      <td>-2.8</td>\n",
       "      <td>78.5</td>\n",
       "      <td>28.98</td>\n",
       "      <td>30.06</td>\n",
       "    </tr>\n",
       "    <tr>\n",
       "      <th>1</th>\n",
       "      <td>1989-05-14</td>\n",
       "      <td>1989</td>\n",
       "      <td>5</td>\n",
       "      <td>14</td>\n",
       "      <td>0.00</td>\n",
       "      <td>-110.1</td>\n",
       "      <td>-2.5</td>\n",
       "      <td>2.4</td>\n",
       "      <td>NaN</td>\n",
       "      <td>24.95</td>\n",
       "      <td>25.23</td>\n",
       "    </tr>\n",
       "    <tr>\n",
       "      <th>2</th>\n",
       "      <td>1993-06-28</td>\n",
       "      <td>1993</td>\n",
       "      <td>6</td>\n",
       "      <td>28</td>\n",
       "      <td>2.04</td>\n",
       "      <td>-110.2</td>\n",
       "      <td>-4.5</td>\n",
       "      <td>5.9</td>\n",
       "      <td>NaN</td>\n",
       "      <td>25.78</td>\n",
       "      <td>27.84</td>\n",
       "    </tr>\n",
       "    <tr>\n",
       "      <th>3</th>\n",
       "      <td>1995-01-08</td>\n",
       "      <td>1995</td>\n",
       "      <td>1</td>\n",
       "      <td>8</td>\n",
       "      <td>1.98</td>\n",
       "      <td>-140.0</td>\n",
       "      <td>-7.7</td>\n",
       "      <td>1.2</td>\n",
       "      <td>82.6</td>\n",
       "      <td>26.47</td>\n",
       "      <td>26.86</td>\n",
       "    </tr>\n",
       "    <tr>\n",
       "      <th>4</th>\n",
       "      <td>1995-02-21</td>\n",
       "      <td>1995</td>\n",
       "      <td>2</td>\n",
       "      <td>21</td>\n",
       "      <td>5.01</td>\n",
       "      <td>-170.0</td>\n",
       "      <td>-5.4</td>\n",
       "      <td>-6.6</td>\n",
       "      <td>75.2</td>\n",
       "      <td>28.83</td>\n",
       "      <td>28.90</td>\n",
       "    </tr>\n",
       "  </tbody>\n",
       "</table>\n",
       "</div>"
      ],
      "text/plain": [
       "        date  year  month  day  latitude  longitude  zon.winds  mer.winds  \\\n",
       "0 1992-12-13  1992     12   13     -4.99      156.0        4.8       -2.8   \n",
       "1 1989-05-14  1989      5   14      0.00     -110.1       -2.5        2.4   \n",
       "2 1993-06-28  1993      6   28      2.04     -110.2       -4.5        5.9   \n",
       "3 1995-01-08  1995      1    8      1.98     -140.0       -7.7        1.2   \n",
       "4 1995-02-21  1995      2   21      5.01     -170.0       -5.4       -6.6   \n",
       "\n",
       "   humidity  air temp.  s.s.temp.  \n",
       "0      78.5      28.98      30.06  \n",
       "1       NaN      24.95      25.23  \n",
       "2       NaN      25.78      27.84  \n",
       "3      82.6      26.47      26.86  \n",
       "4      75.2      28.83      28.90  "
      ]
     },
     "execution_count": 2,
     "metadata": {},
     "output_type": "execute_result"
    }
   ],
   "source": [
    "df=pd.read_csv('train.csv')\n",
    "df['date']=pd.to_datetime(dict(year=df.year,month=df.month,day=df.day))\n",
    "date=df.pop('date')\n",
    "df.insert(0,'date',date)\n",
    "df.head()"
   ]
  },
  {
   "cell_type": "code",
   "execution_count": 3,
   "id": "8d89fae6-ab60-4da9-8f74-7283f9636b6a",
   "metadata": {},
   "outputs": [
    {
     "data": {
      "text/html": [
       "<div>\n",
       "<style scoped>\n",
       "    .dataframe tbody tr th:only-of-type {\n",
       "        vertical-align: middle;\n",
       "    }\n",
       "\n",
       "    .dataframe tbody tr th {\n",
       "        vertical-align: top;\n",
       "    }\n",
       "\n",
       "    .dataframe thead th {\n",
       "        text-align: right;\n",
       "    }\n",
       "</style>\n",
       "<table border=\"1\" class=\"dataframe\">\n",
       "  <thead>\n",
       "    <tr style=\"text-align: right;\">\n",
       "      <th></th>\n",
       "      <th>year</th>\n",
       "      <th>month</th>\n",
       "      <th>day</th>\n",
       "      <th>latitude</th>\n",
       "      <th>longitude</th>\n",
       "      <th>zon.winds</th>\n",
       "      <th>mer.winds</th>\n",
       "      <th>humidity</th>\n",
       "      <th>air temp.</th>\n",
       "    </tr>\n",
       "  </thead>\n",
       "  <tbody>\n",
       "    <tr>\n",
       "      <th>0</th>\n",
       "      <td>1980</td>\n",
       "      <td>3</td>\n",
       "      <td>8</td>\n",
       "      <td>-0.02</td>\n",
       "      <td>-109.44</td>\n",
       "      <td>-4.9</td>\n",
       "      <td>1.1</td>\n",
       "      <td>89.246526</td>\n",
       "      <td>25.66</td>\n",
       "    </tr>\n",
       "    <tr>\n",
       "      <th>1</th>\n",
       "      <td>1980</td>\n",
       "      <td>3</td>\n",
       "      <td>9</td>\n",
       "      <td>-0.02</td>\n",
       "      <td>-109.44</td>\n",
       "      <td>-4.5</td>\n",
       "      <td>2.2</td>\n",
       "      <td>89.246526</td>\n",
       "      <td>25.69</td>\n",
       "    </tr>\n",
       "    <tr>\n",
       "      <th>2</th>\n",
       "      <td>1980</td>\n",
       "      <td>3</td>\n",
       "      <td>10</td>\n",
       "      <td>-0.02</td>\n",
       "      <td>-109.44</td>\n",
       "      <td>-3.8</td>\n",
       "      <td>1.9</td>\n",
       "      <td>89.246526</td>\n",
       "      <td>25.56</td>\n",
       "    </tr>\n",
       "    <tr>\n",
       "      <th>3</th>\n",
       "      <td>1980</td>\n",
       "      <td>3</td>\n",
       "      <td>12</td>\n",
       "      <td>-0.02</td>\n",
       "      <td>-109.44</td>\n",
       "      <td>-4.4</td>\n",
       "      <td>0.3</td>\n",
       "      <td>89.246526</td>\n",
       "      <td>24.72</td>\n",
       "    </tr>\n",
       "    <tr>\n",
       "      <th>4</th>\n",
       "      <td>1980</td>\n",
       "      <td>3</td>\n",
       "      <td>13</td>\n",
       "      <td>-0.02</td>\n",
       "      <td>-109.44</td>\n",
       "      <td>-3.2</td>\n",
       "      <td>0.1</td>\n",
       "      <td>89.246526</td>\n",
       "      <td>24.66</td>\n",
       "    </tr>\n",
       "  </tbody>\n",
       "</table>\n",
       "</div>"
      ],
      "text/plain": [
       "   year  month  day  latitude  longitude  zon.winds  mer.winds   humidity  \\\n",
       "0  1980      3    8     -0.02    -109.44       -4.9        1.1  89.246526   \n",
       "1  1980      3    9     -0.02    -109.44       -4.5        2.2  89.246526   \n",
       "2  1980      3   10     -0.02    -109.44       -3.8        1.9  89.246526   \n",
       "3  1980      3   12     -0.02    -109.44       -4.4        0.3  89.246526   \n",
       "4  1980      3   13     -0.02    -109.44       -3.2        0.1  89.246526   \n",
       "\n",
       "   air temp.  \n",
       "0      25.66  \n",
       "1      25.69  \n",
       "2      25.56  \n",
       "3      24.72  \n",
       "4      24.66  "
      ]
     },
     "execution_count": 3,
     "metadata": {},
     "output_type": "execute_result"
    }
   ],
   "source": [
    "df.sort_values(['date'],inplace=True)\n",
    "df.reset_index(inplace=True,drop=True)\n",
    "#df.set_index('date',inplace=T)\n",
    "df.dropna(subset=['air temp.'],inplace=True)\n",
    "df['zon.winds'].fillna(np.random.normal(-3.505847,3.222261),inplace=True)\n",
    "df['mer.winds'].fillna(np.random.normal(0.451069,2.927329),inplace=True)\n",
    "df['humidity'].fillna(np.random.normal(81.267260,5.363381),inplace=True)\n",
    "\n",
    "x=df.iloc[:,1:-1]\n",
    "# months=pd.get_dummies(x.month)\n",
    "# x=pd.concat([x,months],axis=1)\n",
    "# x.columns=x.columns.astype(str)\n",
    "y=df.iloc[:,-1]\n",
    "x.head()"
   ]
  },
  {
   "cell_type": "code",
   "execution_count": 4,
   "id": "6e7442da-1528-4679-bae2-e4f001d8f460",
   "metadata": {},
   "outputs": [],
   "source": [
    "from sklearn.linear_model import LinearRegression\n",
    "from sklearn.neighbors import KNeighborsRegressor\n",
    "from sklearn.metrics import mean_absolute_error,root_mean_squared_error,r2_score\n",
    "from sklearn.model_selection import train_test_split\n",
    "from sklearn.preprocessing import StandardScaler,KBinsDiscretizer, PolynomialFeatures, OneHotEncoder\n",
    "from sklearn.pipeline import Pipeline\n",
    "from sklearn.model_selection import GridSearchCV, TimeSeriesSplit\n",
    "from sklearn.ensemble import RandomForestRegressor, GradientBoostingRegressor"
   ]
  },
  {
   "cell_type": "code",
   "execution_count": 5,
   "id": "aced8986-8ad7-4306-8f9d-8207dcfd6e75",
   "metadata": {},
   "outputs": [],
   "source": [
    "tss=TimeSeriesSplit(n_splits=3)\n",
    "for train,test in tss.split(x):\n",
    "    x_train,x_test=x.iloc[train,:],x.iloc[test,:]\n",
    "    y_train,y_test=y.iloc[train],y.iloc[test]"
   ]
  },
  {
   "cell_type": "code",
   "execution_count": 6,
   "id": "95acdf59-66b1-4d0d-8c8a-3c25c0c77d51",
   "metadata": {},
   "outputs": [
    {
     "data": {
      "text/plain": [
       "<matplotlib.collections.PathCollection at 0x1cd416ae0d0>"
      ]
     },
     "execution_count": 6,
     "metadata": {},
     "output_type": "execute_result"
    },
    {
     "data": {
      "image/png": "[encoded data removed]",
      "text/plain": [
       "<Figure size 640x480 with 1 Axes>"
      ]
     },
     "metadata": {},
     "output_type": "display_data"
    }
   ],
   "source": [
    "mod=Pipeline([('scale',StandardScaler()),\n",
    "              ('model',LinearRegression())])\n",
    "mod=GridSearchCV(estimator=mod,\n",
    "                 param_grid={},\n",
    "                 cv=3)\n",
    "mod.fit(X=x_train,y=y_train)\n",
    "pred=mod.predict(x_test)\n",
    "plt.scatter(pred,y_test)"
   ]
  },
  {
   "cell_type": "code",
   "execution_count": 7,
   "id": "67c8d3fb-75be-4087-acb9-b064c5f1b821",
   "metadata": {},
   "outputs": [
    {
     "data": {
      "text/plain": [
       "0.44531560460467645"
      ]
     },
     "execution_count": 7,
     "metadata": {},
     "output_type": "execute_result"
    }
   ],
   "source": [
    "mean_absolute_error(y_test,pred)"
   ]
  },
  {
   "cell_type": "code",
   "execution_count": 8,
   "id": "c1286054-d4dc-4f7b-82ce-f8c50cec949e",
   "metadata": {},
   "outputs": [
    {
     "data": {
      "text/plain": [
       "0.5767381276659723"
      ]
     },
     "execution_count": 8,
     "metadata": {},
     "output_type": "execute_result"
    }
   ],
   "source": [
    "root_mean_squared_error(y_test,pred)"
   ]
  },
  {
   "cell_type": "code",
   "execution_count": 9,
   "id": "00fac574-aff9-4ec0-b183-f3b49d91b8c5",
   "metadata": {},
   "outputs": [
    {
     "data": {
      "text/plain": [
       "0.9381537271264277"
      ]
     },
     "execution_count": 9,
     "metadata": {},
     "output_type": "execute_result"
    }
   ],
   "source": [
    "r2_score(y_test,pred)"
   ]
  },
  {
   "cell_type": "code",
   "execution_count": 10,
   "id": "db7312fb-2bd8-4130-953b-d7c966bb7d06",
   "metadata": {},
   "outputs": [
    {
     "data": {
      "text/plain": [
       "<matplotlib.collections.PathCollection at 0x1cd43bcc090>"
      ]
     },
     "execution_count": 10,
     "metadata": {},
     "output_type": "execute_result"
    },
    {
     "data": {
      "image/png": "[encoded data removed]",
      "text/plain": [
       "<Figure size 640x480 with 1 Axes>"
      ]
     },
     "metadata": {},
     "output_type": "display_data"
    }
   ],
   "source": [
    "mod=Pipeline([('scale',StandardScaler()),\n",
    "              ('model',KNeighborsRegressor())])\n",
    "mod=GridSearchCV(estimator=mod,\n",
    "                 param_grid={},\n",
    "                 cv=3)\n",
    "mod.fit(X=x_train,y=y_train)\n",
    "pred=mod.predict(x_test)\n",
    "plt.scatter(pred,y_test)"
   ]
  },
  {
   "cell_type": "code",
   "execution_count": 11,
   "id": "ee1f637f-ad4e-4a68-bfb5-9effa30c3036",
   "metadata": {},
   "outputs": [
    {
     "data": {
      "text/plain": [
       "0.47775776654792473"
      ]
     },
     "execution_count": 11,
     "metadata": {},
     "output_type": "execute_result"
    }
   ],
   "source": [
    "mean_absolute_error(y_test,pred)"
   ]
  },
  {
   "cell_type": "code",
   "execution_count": 12,
   "id": "032f8442-f8df-4d7d-bf3a-bf057c0a7832",
   "metadata": {},
   "outputs": [
    {
     "data": {
      "text/plain": [
       "0.6136182549193561"
      ]
     },
     "execution_count": 12,
     "metadata": {},
     "output_type": "execute_result"
    }
   ],
   "source": [
    "root_mean_squared_error(y_test,pred)"
   ]
  },
  {
   "cell_type": "code",
   "execution_count": 13,
   "id": "bfcbc098-4758-4714-9b0e-91d8f7fcda5a",
   "metadata": {},
   "outputs": [
    {
     "data": {
      "text/plain": [
       "0.9299911815031061"
      ]
     },
     "execution_count": 13,
     "metadata": {},
     "output_type": "execute_result"
    }
   ],
   "source": [
    "r2_score(y_test,pred)"
   ]
  },
  {
   "cell_type": "code",
   "execution_count": 14,
   "id": "26c98fdf-5e78-43fa-b46a-30b94555744c",
   "metadata": {},
   "outputs": [
    {
     "data": {
      "text/plain": [
       "<matplotlib.collections.PathCollection at 0x1cd43be6b10>"
      ]
     },
     "execution_count": 14,
     "metadata": {},
     "output_type": "execute_result"
    },
    {
     "data": {
      "image/png": "[encoded data removed]",
      "text/plain": [
       "<Figure size 640x480 with 1 Axes>"
      ]
     },
     "metadata": {},
     "output_type": "display_data"
    }
   ],
   "source": [
    "mod=Pipeline([('scale',StandardScaler()),\n",
    "              ('model',RandomForestRegressor())])\n",
    "mod=GridSearchCV(estimator=mod,\n",
    "                 param_grid={},\n",
    "                 cv=3)\n",
    "mod.fit(X=x_train,y=y_train)\n",
    "pred=mod.predict(x_test)\n",
    "plt.scatter(pred,y_test)"
   ]
  },
  {
   "cell_type": "code",
   "execution_count": 15,
   "id": "00550892-7ab9-49f7-8afa-3e82b7278df4",
   "metadata": {},
   "outputs": [
    {
     "data": {
      "text/plain": [
       "0.3985230055504932"
      ]
     },
     "execution_count": 15,
     "metadata": {},
     "output_type": "execute_result"
    }
   ],
   "source": [
    "mean_absolute_error(y_test,pred)"
   ]
  },
  {
   "cell_type": "code",
   "execution_count": 16,
   "id": "a9e5b52b-128d-4bb3-86ce-e48b256f4653",
   "metadata": {},
   "outputs": [
    {
     "data": {
      "text/plain": [
       "0.5178943667660356"
      ]
     },
     "execution_count": 16,
     "metadata": {},
     "output_type": "execute_result"
    }
   ],
   "source": [
    "root_mean_squared_error(y_test,pred)"
   ]
  },
  {
   "cell_type": "code",
   "execution_count": 17,
   "id": "253b9093-7b53-486c-b11c-f1e940971650",
   "metadata": {},
   "outputs": [
    {
     "data": {
      "text/plain": [
       "0.95013009049275"
      ]
     },
     "execution_count": 17,
     "metadata": {},
     "output_type": "execute_result"
    }
   ],
   "source": [
    "r2_score(y_test,pred)"
   ]
  },
  {
   "cell_type": "code",
   "execution_count": 18,
   "id": "4e94bf87-0876-4e09-bf6b-51a1fb71e818",
   "metadata": {},
   "outputs": [
    {
     "data": {
      "text/plain": [
       "<matplotlib.collections.PathCollection at 0x1cd43b5b090>"
      ]
     },
     "execution_count": 18,
     "metadata": {},
     "output_type": "execute_result"
    },
    {
     "data": {
      "image/png": "[encoded data removed]",
      "text/plain": [
       "<Figure size 640x480 with 1 Axes>"
      ]
     },
     "metadata": {},
     "output_type": "display_data"
    }
   ],
   "source": [
    "mod=Pipeline([('scale',StandardScaler()),\n",
    "              ('model',GradientBoostingRegressor())])\n",
    "mod=GridSearchCV(estimator=mod,\n",
    "                 param_grid={},\n",
    "                 cv=3)\n",
    "mod.fit(X=x_train,y=y_train)\n",
    "pred=mod.predict(x_test)\n",
    "plt.scatter(pred,y_test)"
   ]
  },
  {
   "cell_type": "code",
   "execution_count": 19,
   "id": "c17d62c4-32c1-4451-939f-580bad893f2d",
   "metadata": {},
   "outputs": [
    {
     "data": {
      "text/plain": [
       "0.3949280259912965"
      ]
     },
     "execution_count": 19,
     "metadata": {},
     "output_type": "execute_result"
    }
   ],
   "source": [
    "mean_absolute_error(y_test,pred)"
   ]
  },
  {
   "cell_type": "code",
   "execution_count": 20,
   "id": "5e481258-ba58-45d8-b76a-095aa10a2c2c",
   "metadata": {},
   "outputs": [
    {
     "data": {
      "text/plain": [
       "0.503761883331454"
      ]
     },
     "execution_count": 20,
     "metadata": {},
     "output_type": "execute_result"
    }
   ],
   "source": [
    "root_mean_squared_error(y_test,pred)"
   ]
  },
  {
   "cell_type": "code",
   "execution_count": 21,
   "id": "dedd63f2-22d7-42c0-b254-51846a8b5502",
   "metadata": {},
   "outputs": [
    {
     "data": {
      "text/plain": [
       "0.9528146898825715"
      ]
     },
     "execution_count": 21,
     "metadata": {},
     "output_type": "execute_result"
    }
   ],
   "source": [
    "r2_score(y_test,pred)"
   ]
  },
  {
   "cell_type": "code",
   "execution_count": null,
   "id": "8fd1bd27-e0ce-4d7d-a93c-d00770b9cbb4",
   "metadata": {},
   "outputs": [],
   "source": []
  }
 ],
 "metadata": {
  "kernelspec": {
   "display_name": "Python 3 (ipykernel)",
   "language": "python",
   "name": "python3"
  },
  "language_info": {
   "codemirror_mode": {
    "name": "ipython",
    "version": 3
   },
   "file_extension": ".py",
   "mimetype": "text/x-python",
   "name": "python",
   "nbconvert_exporter": "python",
   "pygments_lexer": "ipython3",
   "version": "3.11.7"
  }
 },
 "nbformat": 4,
 "nbformat_minor": 5
}
