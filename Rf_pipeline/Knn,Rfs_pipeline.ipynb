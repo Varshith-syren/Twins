{
 "cells": [
  {
   "cell_type": "code",
   "execution_count": 40,
   "id": "8b0aef2b-9d85-4e7b-b974-d0e56136821e",
   "metadata": {},
   "outputs": [],
   "source": [
    "import pandas as pd\n",
    "import numpy as np\n",
    "import matplotlib.pyplot as plt\n",
    "import os\n",
    "import seaborn as sns"
   ]
  },
  {
   "cell_type": "code",
   "execution_count": 41,
   "id": "6412b416-f753-4c27-b8a5-cd66e405be86",
   "metadata": {},
   "outputs": [
    {
     "data": {
      "text/html": [
       "<div>\n",
       "<style scoped>\n",
       "    .dataframe tbody tr th:only-of-type {\n",
       "        vertical-align: middle;\n",
       "    }\n",
       "\n",
       "    .dataframe tbody tr th {\n",
       "        vertical-align: top;\n",
       "    }\n",
       "\n",
       "    .dataframe thead th {\n",
       "        text-align: right;\n",
       "    }\n",
       "</style>\n",
       "<table border=\"1\" class=\"dataframe\">\n",
       "  <thead>\n",
       "    <tr style=\"text-align: right;\">\n",
       "      <th></th>\n",
       "      <th>date</th>\n",
       "      <th>year</th>\n",
       "      <th>month</th>\n",
       "      <th>day</th>\n",
       "      <th>latitude</th>\n",
       "      <th>longitude</th>\n",
       "      <th>zon.winds</th>\n",
       "      <th>mer.winds</th>\n",
       "      <th>humidity</th>\n",
       "      <th>air temp.</th>\n",
       "      <th>s.s.temp.</th>\n",
       "    </tr>\n",
       "  </thead>\n",
       "  <tbody>\n",
       "    <tr>\n",
       "      <th>0</th>\n",
       "      <td>1992-12-13</td>\n",
       "      <td>1992</td>\n",
       "      <td>12</td>\n",
       "      <td>13</td>\n",
       "      <td>-4.99</td>\n",
       "      <td>156.0</td>\n",
       "      <td>4.8</td>\n",
       "      <td>-2.8</td>\n",
       "      <td>78.5</td>\n",
       "      <td>28.98</td>\n",
       "      <td>30.06</td>\n",
       "    </tr>\n",
       "    <tr>\n",
       "      <th>1</th>\n",
       "      <td>1989-05-14</td>\n",
       "      <td>1989</td>\n",
       "      <td>5</td>\n",
       "      <td>14</td>\n",
       "      <td>0.00</td>\n",
       "      <td>-110.1</td>\n",
       "      <td>-2.5</td>\n",
       "      <td>2.4</td>\n",
       "      <td>NaN</td>\n",
       "      <td>24.95</td>\n",
       "      <td>25.23</td>\n",
       "    </tr>\n",
       "    <tr>\n",
       "      <th>2</th>\n",
       "      <td>1993-06-28</td>\n",
       "      <td>1993</td>\n",
       "      <td>6</td>\n",
       "      <td>28</td>\n",
       "      <td>2.04</td>\n",
       "      <td>-110.2</td>\n",
       "      <td>-4.5</td>\n",
       "      <td>5.9</td>\n",
       "      <td>NaN</td>\n",
       "      <td>25.78</td>\n",
       "      <td>27.84</td>\n",
       "    </tr>\n",
       "    <tr>\n",
       "      <th>3</th>\n",
       "      <td>1995-01-08</td>\n",
       "      <td>1995</td>\n",
       "      <td>1</td>\n",
       "      <td>8</td>\n",
       "      <td>1.98</td>\n",
       "      <td>-140.0</td>\n",
       "      <td>-7.7</td>\n",
       "      <td>1.2</td>\n",
       "      <td>82.6</td>\n",
       "      <td>26.47</td>\n",
       "      <td>26.86</td>\n",
       "    </tr>\n",
       "    <tr>\n",
       "      <th>4</th>\n",
       "      <td>1995-02-21</td>\n",
       "      <td>1995</td>\n",
       "      <td>2</td>\n",
       "      <td>21</td>\n",
       "      <td>5.01</td>\n",
       "      <td>-170.0</td>\n",
       "      <td>-5.4</td>\n",
       "      <td>-6.6</td>\n",
       "      <td>75.2</td>\n",
       "      <td>28.83</td>\n",
       "      <td>28.90</td>\n",
       "    </tr>\n",
       "  </tbody>\n",
       "</table>\n",
       "</div>"
      ],
      "text/plain": [
       "        date  year  month  day  latitude  longitude  zon.winds  mer.winds  \\\n",
       "0 1992-12-13  1992     12   13     -4.99      156.0        4.8       -2.8   \n",
       "1 1989-05-14  1989      5   14      0.00     -110.1       -2.5        2.4   \n",
       "2 1993-06-28  1993      6   28      2.04     -110.2       -4.5        5.9   \n",
       "3 1995-01-08  1995      1    8      1.98     -140.0       -7.7        1.2   \n",
       "4 1995-02-21  1995      2   21      5.01     -170.0       -5.4       -6.6   \n",
       "\n",
       "   humidity  air temp.  s.s.temp.  \n",
       "0      78.5      28.98      30.06  \n",
       "1       NaN      24.95      25.23  \n",
       "2       NaN      25.78      27.84  \n",
       "3      82.6      26.47      26.86  \n",
       "4      75.2      28.83      28.90  "
      ]
     },
     "execution_count": 41,
     "metadata": {},
     "output_type": "execute_result"
    }
   ],
   "source": [
    "df=pd.read_csv('train.csv')\n",
    "df['date']=pd.to_datetime(dict(year=df.year,month=df.month,day=df.day))\n",
    "date=df.pop('date')\n",
    "df.insert(0,'date',date)\n",
    "df.head()"
   ]
  },
  {
   "cell_type": "code",
   "execution_count": 65,
   "id": "6b47b4d3-ddf6-416f-a76c-d77075858157",
   "metadata": {},
   "outputs": [
    {
     "data": {
      "text/html": [
       "<div>\n",
       "<style scoped>\n",
       "    .dataframe tbody tr th:only-of-type {\n",
       "        vertical-align: middle;\n",
       "    }\n",
       "\n",
       "    .dataframe tbody tr th {\n",
       "        vertical-align: top;\n",
       "    }\n",
       "\n",
       "    .dataframe thead th {\n",
       "        text-align: right;\n",
       "    }\n",
       "</style>\n",
       "<table border=\"1\" class=\"dataframe\">\n",
       "  <thead>\n",
       "    <tr style=\"text-align: right;\">\n",
       "      <th></th>\n",
       "      <th>year</th>\n",
       "      <th>month</th>\n",
       "      <th>day</th>\n",
       "      <th>latitude</th>\n",
       "      <th>longitude</th>\n",
       "      <th>zon.winds</th>\n",
       "      <th>mer.winds</th>\n",
       "      <th>humidity</th>\n",
       "      <th>air temp.</th>\n",
       "    </tr>\n",
       "  </thead>\n",
       "  <tbody>\n",
       "    <tr>\n",
       "      <th>0</th>\n",
       "      <td>1980</td>\n",
       "      <td>3</td>\n",
       "      <td>8</td>\n",
       "      <td>-0.02</td>\n",
       "      <td>-109.44</td>\n",
       "      <td>-4.9</td>\n",
       "      <td>1.1</td>\n",
       "      <td>86.568814</td>\n",
       "      <td>25.66</td>\n",
       "    </tr>\n",
       "    <tr>\n",
       "      <th>1</th>\n",
       "      <td>1980</td>\n",
       "      <td>3</td>\n",
       "      <td>9</td>\n",
       "      <td>-0.02</td>\n",
       "      <td>-109.44</td>\n",
       "      <td>-4.5</td>\n",
       "      <td>2.2</td>\n",
       "      <td>86.568814</td>\n",
       "      <td>25.69</td>\n",
       "    </tr>\n",
       "    <tr>\n",
       "      <th>2</th>\n",
       "      <td>1980</td>\n",
       "      <td>3</td>\n",
       "      <td>10</td>\n",
       "      <td>-0.02</td>\n",
       "      <td>-109.44</td>\n",
       "      <td>-3.8</td>\n",
       "      <td>1.9</td>\n",
       "      <td>86.568814</td>\n",
       "      <td>25.56</td>\n",
       "    </tr>\n",
       "    <tr>\n",
       "      <th>3</th>\n",
       "      <td>1980</td>\n",
       "      <td>3</td>\n",
       "      <td>12</td>\n",
       "      <td>-0.02</td>\n",
       "      <td>-109.44</td>\n",
       "      <td>-4.4</td>\n",
       "      <td>0.3</td>\n",
       "      <td>86.568814</td>\n",
       "      <td>24.72</td>\n",
       "    </tr>\n",
       "    <tr>\n",
       "      <th>4</th>\n",
       "      <td>1980</td>\n",
       "      <td>3</td>\n",
       "      <td>13</td>\n",
       "      <td>-0.02</td>\n",
       "      <td>-109.44</td>\n",
       "      <td>-3.2</td>\n",
       "      <td>0.1</td>\n",
       "      <td>86.568814</td>\n",
       "      <td>24.66</td>\n",
       "    </tr>\n",
       "  </tbody>\n",
       "</table>\n",
       "</div>"
      ],
      "text/plain": [
       "   year  month  day  latitude  longitude  zon.winds  mer.winds   humidity  \\\n",
       "0  1980      3    8     -0.02    -109.44       -4.9        1.1  86.568814   \n",
       "1  1980      3    9     -0.02    -109.44       -4.5        2.2  86.568814   \n",
       "2  1980      3   10     -0.02    -109.44       -3.8        1.9  86.568814   \n",
       "3  1980      3   12     -0.02    -109.44       -4.4        0.3  86.568814   \n",
       "4  1980      3   13     -0.02    -109.44       -3.2        0.1  86.568814   \n",
       "\n",
       "   air temp.  \n",
       "0      25.66  \n",
       "1      25.69  \n",
       "2      25.56  \n",
       "3      24.72  \n",
       "4      24.66  "
      ]
     },
     "execution_count": 65,
     "metadata": {},
     "output_type": "execute_result"
    }
   ],
   "source": [
    "df.sort_values(['date'],inplace=True)\n",
    "df.reset_index(inplace=True,drop=True)\n",
    "#df.set_index('date',inplace=T)\n",
    "df.dropna(subset=['air temp.'],inplace=True)\n",
    "df['zon.winds'].fillna(np.random.normal(-3.505847,3.222261),inplace=True)\n",
    "df['mer.winds'].fillna(np.random.normal(0.451069,2.927329),inplace=True)\n",
    "df['humidity'].fillna(np.random.normal(81.267260,5.363381),inplace=True)\n",
    "\n",
    "x=df.iloc[:,1:-1]\n",
    "y=df.iloc[:,-1]\n",
    "x.head()"
   ]
  },
  {
   "cell_type": "code",
   "execution_count": 66,
   "id": "13d304a7-f404-43f5-aeb7-db7ee845d6a0",
   "metadata": {},
   "outputs": [
    {
     "data": {
      "text/html": [
       "<div>\n",
       "<style scoped>\n",
       "    .dataframe tbody tr th:only-of-type {\n",
       "        vertical-align: middle;\n",
       "    }\n",
       "\n",
       "    .dataframe tbody tr th {\n",
       "        vertical-align: top;\n",
       "    }\n",
       "\n",
       "    .dataframe thead th {\n",
       "        text-align: right;\n",
       "    }\n",
       "</style>\n",
       "<table border=\"1\" class=\"dataframe\">\n",
       "  <thead>\n",
       "    <tr style=\"text-align: right;\">\n",
       "      <th></th>\n",
       "      <th>year</th>\n",
       "      <th>month</th>\n",
       "      <th>day</th>\n",
       "      <th>latitude</th>\n",
       "      <th>longitude</th>\n",
       "      <th>zon.winds</th>\n",
       "      <th>mer.winds</th>\n",
       "      <th>humidity</th>\n",
       "      <th>air temp.</th>\n",
       "    </tr>\n",
       "  </thead>\n",
       "  <tbody>\n",
       "    <tr>\n",
       "      <th>count</th>\n",
       "      <td>72429.000000</td>\n",
       "      <td>72429.000000</td>\n",
       "      <td>72429.000000</td>\n",
       "      <td>72429.000000</td>\n",
       "      <td>72429.000000</td>\n",
       "      <td>72429.000000</td>\n",
       "      <td>72429.000000</td>\n",
       "      <td>72429.000000</td>\n",
       "      <td>72429.000000</td>\n",
       "    </tr>\n",
       "    <tr>\n",
       "      <th>mean</th>\n",
       "      <td>1991.757777</td>\n",
       "      <td>6.499607</td>\n",
       "      <td>15.717420</td>\n",
       "      <td>0.496709</td>\n",
       "      <td>-52.709306</td>\n",
       "      <td>-3.731852</td>\n",
       "      <td>0.544082</td>\n",
       "      <td>83.641294</td>\n",
       "      <td>26.742221</td>\n",
       "    </tr>\n",
       "    <tr>\n",
       "      <th>std</th>\n",
       "      <td>2.767660</td>\n",
       "      <td>3.465327</td>\n",
       "      <td>8.795031</td>\n",
       "      <td>4.457818</td>\n",
       "      <td>133.695223</td>\n",
       "      <td>3.293105</td>\n",
       "      <td>2.813189</td>\n",
       "      <td>4.553125</td>\n",
       "      <td>1.843928</td>\n",
       "    </tr>\n",
       "    <tr>\n",
       "      <th>min</th>\n",
       "      <td>1980.000000</td>\n",
       "      <td>1.000000</td>\n",
       "      <td>1.000000</td>\n",
       "      <td>-8.330000</td>\n",
       "      <td>-180.000000</td>\n",
       "      <td>-12.200000</td>\n",
       "      <td>-10.800000</td>\n",
       "      <td>54.000000</td>\n",
       "      <td>17.050000</td>\n",
       "    </tr>\n",
       "    <tr>\n",
       "      <th>25%</th>\n",
       "      <td>1990.000000</td>\n",
       "      <td>4.000000</td>\n",
       "      <td>8.000000</td>\n",
       "      <td>-2.020000</td>\n",
       "      <td>-140.100000</td>\n",
       "      <td>-6.500000</td>\n",
       "      <td>-1.200000</td>\n",
       "      <td>80.700000</td>\n",
       "      <td>25.840000</td>\n",
       "    </tr>\n",
       "    <tr>\n",
       "      <th>50%</th>\n",
       "      <td>1993.000000</td>\n",
       "      <td>6.000000</td>\n",
       "      <td>16.000000</td>\n",
       "      <td>0.010000</td>\n",
       "      <td>-110.100000</td>\n",
       "      <td>-4.500000</td>\n",
       "      <td>0.900156</td>\n",
       "      <td>86.568814</td>\n",
       "      <td>27.190000</td>\n",
       "    </tr>\n",
       "    <tr>\n",
       "      <th>75%</th>\n",
       "      <td>1994.000000</td>\n",
       "      <td>10.000000</td>\n",
       "      <td>23.000000</td>\n",
       "      <td>4.990000</td>\n",
       "      <td>147.000000</td>\n",
       "      <td>-1.900000</td>\n",
       "      <td>2.200000</td>\n",
       "      <td>86.568814</td>\n",
       "      <td>28.060000</td>\n",
       "    </tr>\n",
       "    <tr>\n",
       "      <th>max</th>\n",
       "      <td>1995.000000</td>\n",
       "      <td>12.000000</td>\n",
       "      <td>31.000000</td>\n",
       "      <td>9.030000</td>\n",
       "      <td>170.000000</td>\n",
       "      <td>12.500000</td>\n",
       "      <td>11.000000</td>\n",
       "      <td>99.600000</td>\n",
       "      <td>31.480000</td>\n",
       "    </tr>\n",
       "  </tbody>\n",
       "</table>\n",
       "</div>"
      ],
      "text/plain": [
       "               year         month           day      latitude     longitude  \\\n",
       "count  72429.000000  72429.000000  72429.000000  72429.000000  72429.000000   \n",
       "mean    1991.757777      6.499607     15.717420      0.496709    -52.709306   \n",
       "std        2.767660      3.465327      8.795031      4.457818    133.695223   \n",
       "min     1980.000000      1.000000      1.000000     -8.330000   -180.000000   \n",
       "25%     1990.000000      4.000000      8.000000     -2.020000   -140.100000   \n",
       "50%     1993.000000      6.000000     16.000000      0.010000   -110.100000   \n",
       "75%     1994.000000     10.000000     23.000000      4.990000    147.000000   \n",
       "max     1995.000000     12.000000     31.000000      9.030000    170.000000   \n",
       "\n",
       "          zon.winds     mer.winds      humidity     air temp.  \n",
       "count  72429.000000  72429.000000  72429.000000  72429.000000  \n",
       "mean      -3.731852      0.544082     83.641294     26.742221  \n",
       "std        3.293105      2.813189      4.553125      1.843928  \n",
       "min      -12.200000    -10.800000     54.000000     17.050000  \n",
       "25%       -6.500000     -1.200000     80.700000     25.840000  \n",
       "50%       -4.500000      0.900156     86.568814     27.190000  \n",
       "75%       -1.900000      2.200000     86.568814     28.060000  \n",
       "max       12.500000     11.000000     99.600000     31.480000  "
      ]
     },
     "execution_count": 66,
     "metadata": {},
     "output_type": "execute_result"
    }
   ],
   "source": [
    "from sklearn.linear_model import LinearRegression\n",
    "from sklearn.neighbors import KNeighborsRegressor\n",
    "from sklearn.metrics import mean_absolute_error,root_mean_squared_error\n",
    "from sklearn.model_selection import train_test_split\n",
    "from sklearn.preprocessing import StandardScaler, QuantileTransformer, KBinsDiscretizer, PolynomialFeatures, OneHotEncoder\n",
    "from sklearn.pipeline import Pipeline\n",
    "from sklearn.model_selection import GridSearchCV, TimeSeriesSplit\n",
    "from sklearn.ensemble import RandomForestRegressor\n",
    "\n",
    "tss=TimeSeriesSplit(n_splits=3)\n",
    "for train,test in tss.split(x):\n",
    "    x_train,x_test=x.iloc[train,:],x.iloc[test,:]\n",
    "    y_train,y_test=y.iloc[train],y.iloc[test]\n",
    "\n",
    "#x_train,x_test,y_train,y_test=train_test_split(x,y,test_size=0.20)\n",
    "x_train.describe()"
   ]
  },
  {
   "cell_type": "code",
   "execution_count": 67,
   "id": "a9fd49b3-1e05-452f-b09e-2ca74b6b1e5b",
   "metadata": {},
   "outputs": [
    {
     "data": {
      "text/plain": [
       "<matplotlib.collections.PathCollection at 0x1db22d3c610>"
      ]
     },
     "execution_count": 67,
     "metadata": {},
     "output_type": "execute_result"
    },
    {
     "data": {
      "image/png": "[encoded data removed]",
      "text/plain": [
       "<Figure size 640x480 with 1 Axes>"
      ]
     },
     "metadata": {},
     "output_type": "display_data"
    }
   ],
   "source": [
    "mod=KNeighborsRegressor()\n",
    "mod.fit(X=x_train,y=y_train)\n",
    "pred=mod.predict(x_test)\n",
    "plt.scatter(pred,y_test)"
   ]
  },
  {
   "cell_type": "code",
   "execution_count": 68,
   "id": "bb9eca77-53f3-402a-8d5b-0f88e87e3f0c",
   "metadata": {},
   "outputs": [
    {
     "data": {
      "text/plain": [
       "0.7238845994532349"
      ]
     },
     "execution_count": 68,
     "metadata": {},
     "output_type": "execute_result"
    }
   ],
   "source": [
    "mean_absolute_error(y_test,pred)"
   ]
  },
  {
   "cell_type": "code",
   "execution_count": 69,
   "id": "c0ad8632-e55c-4747-b9c0-766370ce3509",
   "metadata": {},
   "outputs": [
    {
     "data": {
      "text/plain": [
       "0.9107985861965744"
      ]
     },
     "execution_count": 69,
     "metadata": {},
     "output_type": "execute_result"
    }
   ],
   "source": [
    "root_mean_squared_error(y_test,pred)"
   ]
  },
  {
   "cell_type": "code",
   "execution_count": 70,
   "id": "9f41e2cc-0340-4fd8-b0bd-26acfb85c50b",
   "metadata": {},
   "outputs": [
    {
     "data": {
      "text/plain": [
       "<matplotlib.collections.PathCollection at 0x1db232167d0>"
      ]
     },
     "execution_count": 70,
     "metadata": {},
     "output_type": "execute_result"
    },
    {
     "data": {
      "image/png": "[encoded data removed]",
      "text/plain": [
       "<Figure size 640x480 with 1 Axes>"
      ]
     },
     "metadata": {},
     "output_type": "display_data"
    }
   ],
   "source": [
    "mod=Pipeline([('scale',StandardScaler()),\n",
    "              ('model',KNeighborsRegressor(n_neighbors=1))])\n",
    "#mod.get_params\n",
    "mod.fit(X=x_train,y=y_train)\n",
    "pred=mod.predict(x_test)\n",
    "plt.scatter(pred,y_test)"
   ]
  },
  {
   "cell_type": "code",
   "execution_count": 71,
   "id": "b50aab3d-2ba1-4aa1-9a85-4bd632a265a9",
   "metadata": {},
   "outputs": [
    {
     "data": {
      "text/plain": [
       "0.5798819484715433"
      ]
     },
     "execution_count": 71,
     "metadata": {},
     "output_type": "execute_result"
    }
   ],
   "source": [
    "mean_absolute_error(y_test,pred)"
   ]
  },
  {
   "cell_type": "code",
   "execution_count": 72,
   "id": "c93587aa-a2ac-46be-8743-fbf39d8d862d",
   "metadata": {},
   "outputs": [
    {
     "data": {
      "text/plain": [
       "0.7490690850932236"
      ]
     },
     "execution_count": 72,
     "metadata": {},
     "output_type": "execute_result"
    }
   ],
   "source": [
    "root_mean_squared_error(y_test,pred)"
   ]
  },
  {
   "cell_type": "code",
   "execution_count": 62,
   "id": "d20eadf9-de40-4853-9670-3ced252b3eea",
   "metadata": {},
   "outputs": [
    {
     "data": {
      "text/plain": [
       "<matplotlib.collections.PathCollection at 0x1db22a7fb10>"
      ]
     },
     "execution_count": 62,
     "metadata": {},
     "output_type": "execute_result"
    },
    {
     "data": {
      "image/png": "[encoded data removed]",
      "text/plain": [
       "<Figure size 640x480 with 1 Axes>"
      ]
     },
     "metadata": {},
     "output_type": "display_data"
    }
   ],
   "source": [
    "mod=GridSearchCV(estimator=mod,\n",
    "                 param_grid={'model__n_neighbors': range(1,11)},\n",
    "                 cv=3)\n",
    "mod.fit(X=x_train,y=y_train)\n",
    "pred=mod.predict(x_test)\n",
    "plt.scatter(pred,y_test)"
   ]
  },
  {
   "cell_type": "code",
   "execution_count": 63,
   "id": "e1cd1671-2ea9-4471-b627-3a18cc185f00",
   "metadata": {},
   "outputs": [
    {
     "data": {
      "text/plain": [
       "0.41733286388865876"
      ]
     },
     "execution_count": 63,
     "metadata": {},
     "output_type": "execute_result"
    }
   ],
   "source": [
    "mean_absolute_error(y_test,pred)"
   ]
  },
  {
   "cell_type": "code",
   "execution_count": 64,
   "id": "edcb54ea-5004-4fa6-9238-12acb6fb2a93",
   "metadata": {},
   "outputs": [
    {
     "data": {
      "text/plain": [
       "0.5353154300437696"
      ]
     },
     "execution_count": 64,
     "metadata": {},
     "output_type": "execute_result"
    }
   ],
   "source": [
    "root_mean_squared_error(y_test,pred)"
   ]
  },
  {
   "cell_type": "code",
   "execution_count": null,
   "id": "eb919cf6-4891-4efb-a19f-ac24548e4eef",
   "metadata": {},
   "outputs": [],
   "source": []
  },
  {
   "cell_type": "code",
   "execution_count": null,
   "id": "2de6eb5d-4996-4c31-896e-a8f41426c3b9",
   "metadata": {},
   "outputs": [],
   "source": []
  }
 ],
 "metadata": {
  "kernelspec": {
   "display_name": "Python 3 (ipykernel)",
   "language": "python",
   "name": "python3"
  },
  "language_info": {
   "codemirror_mode": {
    "name": "ipython",
    "version": 3
   },
   "file_extension": ".py",
   "mimetype": "text/x-python",
   "name": "python",
   "nbconvert_exporter": "python",
   "pygments_lexer": "ipython3",
   "version": "3.11.7"
  }
 },
 "nbformat": 4,
 "nbformat_minor": 5
}
