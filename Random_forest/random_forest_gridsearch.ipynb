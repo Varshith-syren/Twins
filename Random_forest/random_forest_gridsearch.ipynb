{
 "cells": [
  {
   "cell_type": "code",
   "execution_count": 19,
   "id": "777478e9-f401-4aa1-80f0-3fc6e25f8c4b",
   "metadata": {
    "tags": []
   },
   "outputs": [],
   "source": [
    "import pandas as pd\n",
    "import numpy as np\n",
    "import matplotlib.pyplot as plt\n",
    "from sklearn.preprocessing import MinMaxScaler,StandardScaler\n",
    "from sklearn.model_selection import train_test_split\n",
    "from keras.preprocessing.sequence import TimeseriesGenerator\n",
    "import tensorflow as tf\n",
    "from datetime import datetime"
   ]
  },
  {
   "cell_type": "code",
   "execution_count": 20,
   "id": "e5252a5a-cedc-4ddc-8f99-57eac4344320",
   "metadata": {
    "tags": []
   },
   "outputs": [],
   "source": [
    "def convert_to_date(x):\n",
    "    return datetime.strptime(x, '%Y %m %d')"
   ]
  },
  {
   "cell_type": "code",
   "execution_count": 31,
   "id": "d215a02e-b61c-44bd-8585-c882e370ecb9",
   "metadata": {
    "tags": []
   },
   "outputs": [
    {
     "name": "stderr",
     "output_type": "stream",
     "text": [
      "C:\\Users\\DELL\\AppData\\Local\\Temp\\ipykernel_24860\\1545339538.py:1: FutureWarning: The argument 'date_parser' is deprecated and will be removed in a future version. Please use 'date_format' instead, or read your data in as 'object' dtype and then call 'to_datetime'.\n",
      "  data=pd.read_csv('twins_1992-1997.csv',parse_dates=[['year','month','day']],date_parser=convert_to_date,keep_date_col=True)\n"
     ]
    }
   ],
   "source": [
    "data=pd.read_csv('twins_1992-1997.csv',parse_dates=[['year','month','day']],date_parser=convert_to_date,keep_date_col=True)"
   ]
  },
  {
   "cell_type": "code",
   "execution_count": 32,
   "id": "e3ea15fb-4a8f-4b12-980f-70966dc41bc9",
   "metadata": {
    "tags": []
   },
   "outputs": [],
   "source": [
    "#data=pd.read_csv('twins_1992-1997.csv')"
   ]
  },
  {
   "cell_type": "code",
   "execution_count": 33,
   "id": "a1710dca-c2e2-4ab2-bc30-aafaaff46917",
   "metadata": {
    "tags": []
   },
   "outputs": [
    {
     "data": {
      "text/html": [
       "<div>\n",
       "<style scoped>\n",
       "    .dataframe tbody tr th:only-of-type {\n",
       "        vertical-align: middle;\n",
       "    }\n",
       "\n",
       "    .dataframe tbody tr th {\n",
       "        vertical-align: top;\n",
       "    }\n",
       "\n",
       "    .dataframe thead th {\n",
       "        text-align: right;\n",
       "    }\n",
       "</style>\n",
       "<table border=\"1\" class=\"dataframe\">\n",
       "  <thead>\n",
       "    <tr style=\"text-align: right;\">\n",
       "      <th></th>\n",
       "      <th>year_month_day</th>\n",
       "      <th>year</th>\n",
       "      <th>month</th>\n",
       "      <th>day</th>\n",
       "      <th>latitude</th>\n",
       "      <th>longitude</th>\n",
       "      <th>zon.winds</th>\n",
       "      <th>mer.winds</th>\n",
       "      <th>humidity</th>\n",
       "      <th>air temp.</th>\n",
       "      <th>s.s.temp.</th>\n",
       "    </tr>\n",
       "  </thead>\n",
       "  <tbody>\n",
       "    <tr>\n",
       "      <th>0</th>\n",
       "      <td>1992-01-01</td>\n",
       "      <td>1992</td>\n",
       "      <td>1</td>\n",
       "      <td>1</td>\n",
       "      <td>5.01</td>\n",
       "      <td>-110.00</td>\n",
       "      <td>-3.3</td>\n",
       "      <td>3.6</td>\n",
       "      <td>NaN</td>\n",
       "      <td>26.39</td>\n",
       "      <td>27.40</td>\n",
       "    </tr>\n",
       "    <tr>\n",
       "      <th>1</th>\n",
       "      <td>1992-01-01</td>\n",
       "      <td>1992</td>\n",
       "      <td>1</td>\n",
       "      <td>1</td>\n",
       "      <td>1.98</td>\n",
       "      <td>-140.40</td>\n",
       "      <td>-4.4</td>\n",
       "      <td>4.1</td>\n",
       "      <td>NaN</td>\n",
       "      <td>27.75</td>\n",
       "      <td>28.27</td>\n",
       "    </tr>\n",
       "    <tr>\n",
       "      <th>2</th>\n",
       "      <td>1992-01-01</td>\n",
       "      <td>1992</td>\n",
       "      <td>1</td>\n",
       "      <td>1</td>\n",
       "      <td>5.00</td>\n",
       "      <td>-140.00</td>\n",
       "      <td>NaN</td>\n",
       "      <td>NaN</td>\n",
       "      <td>NaN</td>\n",
       "      <td>26.70</td>\n",
       "      <td>28.27</td>\n",
       "    </tr>\n",
       "    <tr>\n",
       "      <th>3</th>\n",
       "      <td>1992-01-01</td>\n",
       "      <td>1992</td>\n",
       "      <td>1</td>\n",
       "      <td>1</td>\n",
       "      <td>-2.00</td>\n",
       "      <td>156.00</td>\n",
       "      <td>9.6</td>\n",
       "      <td>4.3</td>\n",
       "      <td>NaN</td>\n",
       "      <td>27.77</td>\n",
       "      <td>29.39</td>\n",
       "    </tr>\n",
       "    <tr>\n",
       "      <th>4</th>\n",
       "      <td>1992-01-01</td>\n",
       "      <td>1992</td>\n",
       "      <td>1</td>\n",
       "      <td>1</td>\n",
       "      <td>8.04</td>\n",
       "      <td>-110.06</td>\n",
       "      <td>NaN</td>\n",
       "      <td>NaN</td>\n",
       "      <td>86.3</td>\n",
       "      <td>26.72</td>\n",
       "      <td>27.30</td>\n",
       "    </tr>\n",
       "  </tbody>\n",
       "</table>\n",
       "</div>"
      ],
      "text/plain": [
       "  year_month_day  year month day  latitude  longitude  zon.winds  mer.winds  \\\n",
       "0     1992-01-01  1992     1   1      5.01    -110.00       -3.3        3.6   \n",
       "1     1992-01-01  1992     1   1      1.98    -140.40       -4.4        4.1   \n",
       "2     1992-01-01  1992     1   1      5.00    -140.00        NaN        NaN   \n",
       "3     1992-01-01  1992     1   1     -2.00     156.00        9.6        4.3   \n",
       "4     1992-01-01  1992     1   1      8.04    -110.06        NaN        NaN   \n",
       "\n",
       "   humidity  air temp.  s.s.temp.  \n",
       "0       NaN      26.39      27.40  \n",
       "1       NaN      27.75      28.27  \n",
       "2       NaN      26.70      28.27  \n",
       "3       NaN      27.77      29.39  \n",
       "4      86.3      26.72      27.30  "
      ]
     },
     "execution_count": 33,
     "metadata": {},
     "output_type": "execute_result"
    }
   ],
   "source": [
    "data.head()"
   ]
  },
  {
   "cell_type": "code",
   "execution_count": 37,
   "id": "c8e8edbb-5107-43b9-832e-90fa3d54f828",
   "metadata": {
    "tags": []
   },
   "outputs": [
    {
     "name": "stdout",
     "output_type": "stream",
     "text": [
      "<class 'pandas.core.frame.DataFrame'>\n",
      "RangeIndex: 77506 entries, 0 to 77505\n",
      "Data columns (total 11 columns):\n",
      " #   Column          Non-Null Count  Dtype         \n",
      "---  ------          --------------  -----         \n",
      " 0   year_month_day  77506 non-null  datetime64[ns]\n",
      " 1   year            77506 non-null  object        \n",
      " 2   month           77506 non-null  object        \n",
      " 3   day             77506 non-null  object        \n",
      " 4   latitude        77506 non-null  float64       \n",
      " 5   longitude       77506 non-null  float64       \n",
      " 6   zon.winds       66895 non-null  float64       \n",
      " 7   mer.winds       66895 non-null  float64       \n",
      " 8   humidity        62674 non-null  float64       \n",
      " 9   air temp.       72158 non-null  float64       \n",
      " 10  s.s.temp.       77506 non-null  float64       \n",
      "dtypes: datetime64[ns](1), float64(7), object(3)\n",
      "memory usage: 6.5+ MB\n"
     ]
    }
   ],
   "source": [
    "data.info()"
   ]
  },
  {
   "cell_type": "code",
   "execution_count": 121,
   "id": "f70abc6f-d37c-48f3-91f6-d437893de324",
   "metadata": {
    "tags": []
   },
   "outputs": [],
   "source": [
    "data['humidity'].interpolate(inplace=True)\n",
    "data['zon.winds'].fillna(np.random.normal(data['zon.winds'].mean(), data['zon.winds'].std()), inplace=True)\n",
    "data['mer.winds'].fillna(np.random.normal(data['mer.winds'].mean(), data['mer.winds'].std()), inplace=True)\n",
    "data['humidity'] = data['humidity'].fillna(data['humidity'].mean())\n",
    "data = data.dropna(subset=['air temp.'])\n"
   ]
  },
  {
   "cell_type": "code",
   "execution_count": 123,
   "id": "8f09d646-944b-498a-a87a-d2de3200e471",
   "metadata": {
    "tags": []
   },
   "outputs": [
    {
     "name": "stdout",
     "output_type": "stream",
     "text": [
      "<class 'pandas.core.frame.DataFrame'>\n",
      "Index: 72158 entries, 0 to 77505\n",
      "Data columns (total 11 columns):\n",
      " #   Column          Non-Null Count  Dtype         \n",
      "---  ------          --------------  -----         \n",
      " 0   year_month_day  72158 non-null  datetime64[ns]\n",
      " 1   year            72158 non-null  float64       \n",
      " 2   month           72158 non-null  float64       \n",
      " 3   day             72158 non-null  float64       \n",
      " 4   latitude        72158 non-null  float64       \n",
      " 5   longitude       72158 non-null  float64       \n",
      " 6   zon.winds       72158 non-null  float64       \n",
      " 7   mer.winds       72158 non-null  float64       \n",
      " 8   humidity        72158 non-null  float64       \n",
      " 9   air temp.       72158 non-null  float64       \n",
      " 10  s.s.temp.       72158 non-null  float64       \n",
      "dtypes: datetime64[ns](1), float64(10)\n",
      "memory usage: 6.6 MB\n"
     ]
    }
   ],
   "source": [
    "data['year']=data['year'].astype(float)\n",
    "data['month']=data['month'].astype(float)\n",
    "data['day']=data['day'].astype(float)\n",
    "data.info()"
   ]
  },
  {
   "cell_type": "code",
   "execution_count": 63,
   "id": "79243042-412b-42ec-83b8-f5578f2f57de",
   "metadata": {
    "tags": []
   },
   "outputs": [
    {
     "data": {
      "text/plain": [
       "year_month_day    72158\n",
       "year              72158\n",
       "month             72158\n",
       "day               72158\n",
       "latitude          72158\n",
       "longitude         72158\n",
       "zon.winds         72158\n",
       "mer.winds         72158\n",
       "humidity          72158\n",
       "air temp.         72158\n",
       "s.s.temp.         72158\n",
       "dtype: int64"
      ]
     },
     "execution_count": 63,
     "metadata": {},
     "output_type": "execute_result"
    }
   ],
   "source": [
    "data.count()"
   ]
  },
  {
   "cell_type": "code",
   "execution_count": 125,
   "id": "60ecd2cd-04d1-4363-93f3-7592e25acbdb",
   "metadata": {
    "tags": []
   },
   "outputs": [
    {
     "name": "stdout",
     "output_type": "stream",
     "text": [
      "Best parameters: {'max_depth': 20, 'min_samples_leaf': 4, 'min_samples_split': 10, 'n_estimators': 100}\n",
      "Mean Squared Error: 0.21416302455402209\n",
      "R-squared: 0.9572457527397458\n"
     ]
    }
   ],
   "source": [
    "import pandas as pd\n",
    "from sklearn.model_selection import train_test_split\n",
    "from sklearn.ensemble import RandomForestRegressor\n",
    "from sklearn.metrics import mean_squared_error, r2_score\n",
    "from sklearn.preprocessing import StandardScaler\n",
    "from sklearn.model_selection import TimeSeriesSplit\n",
    "from sklearn.model_selection import GridSearchCV\n",
    "\n",
    "\n",
    "features = ['year', 'month', 'day', 'latitude', 'longitude', 'zon.winds', 'mer.winds', 'humidity', 'air temp.']\n",
    "target = 's.s.temp.'\n",
    "\n",
    "\n",
    "X = data[features]\n",
    "y = data[target]\n",
    "scaler = StandardScaler()\n",
    "\n",
    "tss = TimeSeriesSplit(n_splits=3)\n",
    "for train_index, test_index in tss.split(X):\n",
    "    X_train, X_test = X.iloc[train_index], X.iloc[test_index]\n",
    "    y_train, y_test = y.iloc[train_index], y.iloc[test_index]\n",
    "\n",
    "\n",
    "\n",
    "\n",
    "X_train_scaled = scaler.fit_transform(X_train)\n",
    "\n",
    "# Transform the testing data using the same scaler\n",
    "X_test_scaled = scaler.transform(X_test)\n",
    "\n",
    "# Initialize the Random Forest Regressor\n",
    "param_grid = {\n",
    "    'n_estimators': [50, 100],\n",
    "    'max_depth': [10, 20],\n",
    "    'min_samples_split': [10, 20],\n",
    "    'min_samples_leaf': [4, 10]\n",
    "}\n",
    "# Initialize the Random Forest Regressor\n",
    "rf_model = RandomForestRegressor(random_state=42)\n",
    "\n",
    "# Perform Grid Search with Cross-Validation\n",
    "grid_search = GridSearchCV(estimator=rf_model, param_grid=param_grid, cv=tss, scoring='neg_mean_squared_error', n_jobs=-1)\n",
    "grid_search.fit(X_train_scaled, y_train)\n",
    "\n",
    "\n",
    "# Get the best parameters\n",
    "best_params = grid_search.best_params_\n",
    "print(f\"Best parameters: {best_params}\")\n",
    "\n",
    "# Train the model on the scaled training data\n",
    "rf_model.fit(X_train_scaled, y_train)\n",
    "\n",
    "# Predict on the scaled testing data\n",
    "y_pred = rf_model.predict(X_test_scaled)\n",
    "\n",
    "# Calculate performance metrics\n",
    "mse = mean_squared_error(y_test, y_pred)\n",
    "r2 = r2_score(y_test, y_pred)\n",
    "\n",
    "print(f\"Mean Squared Error: {mse}\")\n",
    "print(f\"R-squared: {r2}\")\n"
   ]
  },
  {
   "cell_type": "code",
   "execution_count": 126,
   "id": "e60bdf87-e4b5-45bc-931d-b16fdab52251",
   "metadata": {
    "tags": []
   },
   "outputs": [],
   "source": [
    "y_test_pred = rf_model.predict(X_test_scaled)\n",
    "y_train_pred = rf_model.predict(X_train_scaled)"
   ]
  },
  {
   "cell_type": "code",
   "execution_count": 127,
   "id": "d7237a3d-ff38-4a87-80f6-8f9e33d80376",
   "metadata": {
    "tags": []
   },
   "outputs": [],
   "source": [
    "mse_train = mean_squared_error(y_train, y_train_pred)\n",
    "mse_test = mean_squared_error(y_test, y_test_pred)\n",
    "r2_train = r2_score(y_train, y_train_pred)\n",
    "r2_test = r2_score(y_test, y_test_pred)"
   ]
  },
  {
   "cell_type": "code",
   "execution_count": 128,
   "id": "c614ce35-a360-4594-9627-280457d0f345",
   "metadata": {
    "tags": []
   },
   "outputs": [
    {
     "name": "stdout",
     "output_type": "stream",
     "text": [
      "Training Data Performance\n",
      "Mean Squared Error: 0.012496583210517553\n",
      "R-squared: 0.9966690862168668\n"
     ]
    }
   ],
   "source": [
    "print(\"Training Data Performance\")\n",
    "print(f\"Mean Squared Error: {mse_train}\")\n",
    "print(f\"R-squared: {r2_train}\")"
   ]
  },
  {
   "cell_type": "code",
   "execution_count": 129,
   "id": "ce3cae64-64d1-42cc-95b7-0d6d4b0de97b",
   "metadata": {
    "tags": []
   },
   "outputs": [
    {
     "name": "stdout",
     "output_type": "stream",
     "text": [
      "\n",
      "Testing Data Performance\n",
      "Mean Squared Error: 0.21416302455402209\n",
      "R-squared: 0.9572457527397458\n"
     ]
    }
   ],
   "source": [
    "print(\"\\nTesting Data Performance\")\n",
    "print(f\"Mean Squared Error: {mse_test}\")\n",
    "print(f\"R-squared: {r2_test}\")"
   ]
  },
  {
   "cell_type": "code",
   "execution_count": null,
   "id": "39700667-0798-4a8f-a33d-318b2aa260a2",
   "metadata": {},
   "outputs": [],
   "source": []
  }
 ],
 "metadata": {
  "kernelspec": {
   "display_name": "Python 3 (ipykernel)",
   "language": "python",
   "name": "python3"
  },
  "language_info": {
   "codemirror_mode": {
    "name": "ipython",
    "version": 3
   },
   "file_extension": ".py",
   "mimetype": "text/x-python",
   "name": "python",
   "nbconvert_exporter": "python",
   "pygments_lexer": "ipython3",
   "version": "3.11.7"
  }
 },
 "nbformat": 4,
 "nbformat_minor": 5
}
