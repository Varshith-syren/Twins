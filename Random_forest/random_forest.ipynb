{
 "cells": [
  {
   "cell_type": "code",
   "execution_count": 4,
   "id": "777478e9-f401-4aa1-80f0-3fc6e25f8c4b",
   "metadata": {
    "tags": []
   },
   "outputs": [],
   "source": [
    "import pandas as pd\n",
    "import numpy as np\n",
    "import matplotlib.pyplot as plt\n",
    "from sklearn.preprocessing import MinMaxScaler,StandardScaler\n",
    "from sklearn.model_selection import train_test_split\n",
    "from keras.preprocessing.sequence import TimeseriesGenerator\n",
    "import tensorflow as tf\n",
    "from datetime import datetime"
   ]
  },
  {
   "cell_type": "code",
   "execution_count": 5,
   "id": "e5252a5a-cedc-4ddc-8f99-57eac4344320",
   "metadata": {
    "tags": []
   },
   "outputs": [],
   "source": [
    "#def convert_to_date(x):\n",
    "    return datetime.strptime(x, '%Y %m %d')"
   ]
  },
  {
   "cell_type": "code",
   "execution_count": 6,
   "id": "d215a02e-b61c-44bd-8585-c882e370ecb9",
   "metadata": {
    "tags": []
   },
   "outputs": [
    {
     "name": "stderr",
     "output_type": "stream",
     "text": [
      "C:\\Users\\DELL\\AppData\\Local\\Temp\\ipykernel_15728\\3957504781.py:1: FutureWarning: The argument 'date_parser' is deprecated and will be removed in a future version. Please use 'date_format' instead, or read your data in as 'object' dtype and then call 'to_datetime'.\n",
      "  data=pd.read_csv('twins_1992-1997.csv',parse_dates=[['year','month','day']],date_parser=convert_to_date,keep_date_col=False)\n"
     ]
    }
   ],
   "source": [
    "#data=pd.read_csv('twins_1992-1997.csv',parse_dates=[['year','month','day']],date_parser=convert_to_date,keep_date_col=False)"
   ]
  },
  {
   "cell_type": "code",
   "execution_count": 18,
   "id": "e3ea15fb-4a8f-4b12-980f-70966dc41bc9",
   "metadata": {
    "tags": []
   },
   "outputs": [],
   "source": [
    "data=pd.read_csv('twins_1992-1997.csv')"
   ]
  },
  {
   "cell_type": "code",
   "execution_count": 20,
   "id": "a1710dca-c2e2-4ab2-bc30-aafaaff46917",
   "metadata": {
    "tags": []
   },
   "outputs": [
    {
     "data": {
      "text/html": [
       "<div>\n",
       "<style scoped>\n",
       "    .dataframe tbody tr th:only-of-type {\n",
       "        vertical-align: middle;\n",
       "    }\n",
       "\n",
       "    .dataframe tbody tr th {\n",
       "        vertical-align: top;\n",
       "    }\n",
       "\n",
       "    .dataframe thead th {\n",
       "        text-align: right;\n",
       "    }\n",
       "</style>\n",
       "<table border=\"1\" class=\"dataframe\">\n",
       "  <thead>\n",
       "    <tr style=\"text-align: right;\">\n",
       "      <th></th>\n",
       "      <th>year</th>\n",
       "      <th>month</th>\n",
       "      <th>day</th>\n",
       "      <th>latitude</th>\n",
       "      <th>longitude</th>\n",
       "      <th>zon.winds</th>\n",
       "      <th>mer.winds</th>\n",
       "      <th>humidity</th>\n",
       "      <th>air temp.</th>\n",
       "      <th>s.s.temp.</th>\n",
       "    </tr>\n",
       "  </thead>\n",
       "  <tbody>\n",
       "    <tr>\n",
       "      <th>0</th>\n",
       "      <td>1992</td>\n",
       "      <td>1</td>\n",
       "      <td>1</td>\n",
       "      <td>5.01</td>\n",
       "      <td>-110.00</td>\n",
       "      <td>-3.3</td>\n",
       "      <td>3.6</td>\n",
       "      <td>NaN</td>\n",
       "      <td>26.39</td>\n",
       "      <td>27.40</td>\n",
       "    </tr>\n",
       "    <tr>\n",
       "      <th>1</th>\n",
       "      <td>1992</td>\n",
       "      <td>1</td>\n",
       "      <td>1</td>\n",
       "      <td>1.98</td>\n",
       "      <td>-140.40</td>\n",
       "      <td>-4.4</td>\n",
       "      <td>4.1</td>\n",
       "      <td>NaN</td>\n",
       "      <td>27.75</td>\n",
       "      <td>28.27</td>\n",
       "    </tr>\n",
       "    <tr>\n",
       "      <th>2</th>\n",
       "      <td>1992</td>\n",
       "      <td>1</td>\n",
       "      <td>1</td>\n",
       "      <td>5.00</td>\n",
       "      <td>-140.00</td>\n",
       "      <td>NaN</td>\n",
       "      <td>NaN</td>\n",
       "      <td>NaN</td>\n",
       "      <td>26.70</td>\n",
       "      <td>28.27</td>\n",
       "    </tr>\n",
       "    <tr>\n",
       "      <th>3</th>\n",
       "      <td>1992</td>\n",
       "      <td>1</td>\n",
       "      <td>1</td>\n",
       "      <td>-2.00</td>\n",
       "      <td>156.00</td>\n",
       "      <td>9.6</td>\n",
       "      <td>4.3</td>\n",
       "      <td>NaN</td>\n",
       "      <td>27.77</td>\n",
       "      <td>29.39</td>\n",
       "    </tr>\n",
       "    <tr>\n",
       "      <th>4</th>\n",
       "      <td>1992</td>\n",
       "      <td>1</td>\n",
       "      <td>1</td>\n",
       "      <td>8.04</td>\n",
       "      <td>-110.06</td>\n",
       "      <td>NaN</td>\n",
       "      <td>NaN</td>\n",
       "      <td>86.3</td>\n",
       "      <td>26.72</td>\n",
       "      <td>27.30</td>\n",
       "    </tr>\n",
       "  </tbody>\n",
       "</table>\n",
       "</div>"
      ],
      "text/plain": [
       "   year  month  day  latitude  longitude  zon.winds  mer.winds  humidity  \\\n",
       "0  1992      1    1      5.01    -110.00       -3.3        3.6       NaN   \n",
       "1  1992      1    1      1.98    -140.40       -4.4        4.1       NaN   \n",
       "2  1992      1    1      5.00    -140.00        NaN        NaN       NaN   \n",
       "3  1992      1    1     -2.00     156.00        9.6        4.3       NaN   \n",
       "4  1992      1    1      8.04    -110.06        NaN        NaN      86.3   \n",
       "\n",
       "   air temp.  s.s.temp.  \n",
       "0      26.39      27.40  \n",
       "1      27.75      28.27  \n",
       "2      26.70      28.27  \n",
       "3      27.77      29.39  \n",
       "4      26.72      27.30  "
      ]
     },
     "execution_count": 20,
     "metadata": {},
     "output_type": "execute_result"
    }
   ],
   "source": [
    "data.head()"
   ]
  },
  {
   "cell_type": "code",
   "execution_count": 22,
   "id": "c8e8edbb-5107-43b9-832e-90fa3d54f828",
   "metadata": {
    "tags": []
   },
   "outputs": [
    {
     "name": "stdout",
     "output_type": "stream",
     "text": [
      "<class 'pandas.core.frame.DataFrame'>\n",
      "RangeIndex: 77506 entries, 0 to 77505\n",
      "Data columns (total 10 columns):\n",
      " #   Column     Non-Null Count  Dtype  \n",
      "---  ------     --------------  -----  \n",
      " 0   year       77506 non-null  int64  \n",
      " 1   month      77506 non-null  int64  \n",
      " 2   day        77506 non-null  int64  \n",
      " 3   latitude   77506 non-null  float64\n",
      " 4   longitude  77506 non-null  float64\n",
      " 5   zon.winds  66895 non-null  float64\n",
      " 6   mer.winds  66895 non-null  float64\n",
      " 7   humidity   62674 non-null  float64\n",
      " 8   air temp.  72158 non-null  float64\n",
      " 9   s.s.temp.  77506 non-null  float64\n",
      "dtypes: float64(7), int64(3)\n",
      "memory usage: 5.9 MB\n"
     ]
    }
   ],
   "source": [
    "data.info()"
   ]
  },
  {
   "cell_type": "code",
   "execution_count": 24,
   "id": "c8d14330-242c-4935-8f5c-1faefcf6b018",
   "metadata": {
    "tags": []
   },
   "outputs": [],
   "source": [
    "data['humidity'].interpolate(inplace=True)\n"
   ]
  },
  {
   "cell_type": "code",
   "execution_count": 26,
   "id": "888e9a1d-d3f5-49a7-954b-5d07b2eb6b49",
   "metadata": {
    "tags": []
   },
   "outputs": [],
   "source": [
    "data['zon.winds'].fillna(np.random.normal(data['zon.winds'].mean(),data['zon.winds'].std()),inplace=True)\n",
    "data['mer.winds'].fillna(np.random.normal(data['mer.winds'].mean(),data['mer.winds'].std()),inplace=True)"
   ]
  },
  {
   "cell_type": "code",
   "execution_count": 28,
   "id": "d9a12587-bd48-4a10-8129-d48a3e5a855d",
   "metadata": {
    "tags": []
   },
   "outputs": [],
   "source": [
    "data['humidity']=data['humidity'].fillna(data['humidity'].mean(),)"
   ]
  },
  {
   "cell_type": "code",
   "execution_count": 30,
   "id": "7a5033cb-4e52-4490-a94d-09bde4d12d4a",
   "metadata": {
    "tags": []
   },
   "outputs": [],
   "source": [
    "data=data.dropna(subset=['air temp.'])"
   ]
  },
  {
   "cell_type": "code",
   "execution_count": 32,
   "id": "79243042-412b-42ec-83b8-f5578f2f57de",
   "metadata": {
    "tags": []
   },
   "outputs": [
    {
     "data": {
      "text/plain": [
       "year         72158\n",
       "month        72158\n",
       "day          72158\n",
       "latitude     72158\n",
       "longitude    72158\n",
       "zon.winds    72158\n",
       "mer.winds    72158\n",
       "humidity     72158\n",
       "air temp.    72158\n",
       "s.s.temp.    72158\n",
       "dtype: int64"
      ]
     },
     "execution_count": 32,
     "metadata": {},
     "output_type": "execute_result"
    }
   ],
   "source": [
    "data.count()"
   ]
  },
  {
   "cell_type": "code",
   "execution_count": 73,
   "id": "60ecd2cd-04d1-4363-93f3-7592e25acbdb",
   "metadata": {
    "tags": []
   },
   "outputs": [
    {
     "name": "stdout",
     "output_type": "stream",
     "text": [
      "Mean Squared Error: 0.1464958190376019\n",
      "R-squared: 0.9646981151809849\n"
     ]
    }
   ],
   "source": [
    "import pandas as pd\n",
    "from sklearn.model_selection import train_test_split\n",
    "from sklearn.ensemble import RandomForestRegressor\n",
    "from sklearn.metrics import mean_squared_error, r2_score\n",
    "from sklearn.preprocessing import StandardScaler\n",
    "from sklearn.model_selection import TimeSeriesSplit\n",
    "\n",
    "\n",
    "features = ['year', 'month', 'day', 'latitude', 'longitude', 'zon.winds', 'mer.winds', 'humidity', 'air temp.']\n",
    "target = 's.s.temp.'\n",
    "\n",
    "\n",
    "X = data[features]\n",
    "y = data[target]\n",
    "scaler = StandardScaler()\n",
    "\n",
    "X_train, X_test, y_train, y_test = train_test_split(X, y, test_size=0.2, random_state=42)\n",
    "# Fit the scaler on the training data and transform the training data\n",
    "X_train_scaled = scaler.fit_transform(X_train)\n",
    "\n",
    "# Transform the testing data using the same scaler\n",
    "X_test_scaled = scaler.transform(X_test)\n",
    "\n",
    "# Initialize the Random Forest Regressor\n",
    "rf_model = RandomForestRegressor(\n",
    "    n_estimators=100,      # You can try reducing this number\n",
    "    max_depth=10,          # Limit the depth of the trees\n",
    "    min_samples_split=10,  # Increase the minimum samples required to split a node\n",
    "    min_samples_leaf=4,    # Increase the minimum samples required at a leaf node\n",
    "    random_state=42\n",
    ")\n",
    "\n",
    "# Train the model on the scaled training data\n",
    "rf_model.fit(X_train_scaled, y_train)\n",
    "\n",
    "# Predict on the scaled testing data\n",
    "y_pred = rf_model.predict(X_test_scaled)\n",
    "\n",
    "# Calculate performance metrics\n",
    "mse = mean_squared_error(y_test, y_pred)\n",
    "r2 = r2_score(y_test, y_pred)\n",
    "\n",
    "print(f\"Mean Squared Error: {mse}\")\n",
    "print(f\"R-squared: {r2}\")\n"
   ]
  },
  {
   "cell_type": "code",
   "execution_count": 74,
   "id": "e60bdf87-e4b5-45bc-931d-b16fdab52251",
   "metadata": {
    "tags": []
   },
   "outputs": [],
   "source": [
    "y_test_pred = rf_model.predict(X_test_scaled)\n",
    "y_train_pred = rf_model.predict(X_train_scaled)"
   ]
  },
  {
   "cell_type": "code",
   "execution_count": 75,
   "id": "d7237a3d-ff38-4a87-80f6-8f9e33d80376",
   "metadata": {
    "tags": []
   },
   "outputs": [],
   "source": [
    "mse_train = mean_squared_error(y_train, y_train_pred)\n",
    "mse_test = mean_squared_error(y_test, y_test_pred)\n",
    "r2_train = r2_score(y_train, y_train_pred)\n",
    "r2_test = r2_score(y_test, y_test_pred)"
   ]
  },
  {
   "cell_type": "code",
   "execution_count": 76,
   "id": "c614ce35-a360-4594-9627-280457d0f345",
   "metadata": {
    "tags": []
   },
   "outputs": [
    {
     "name": "stdout",
     "output_type": "stream",
     "text": [
      "Training Data Performance\n",
      "Mean Squared Error: 0.12583908067889843\n",
      "R-squared: 0.9693099356815261\n"
     ]
    }
   ],
   "source": [
    "print(\"Training Data Performance\")\n",
    "print(f\"Mean Squared Error: {mse_train}\")\n",
    "print(f\"R-squared: {r2_train}\")"
   ]
  },
  {
   "cell_type": "code",
   "execution_count": 77,
   "id": "ce3cae64-64d1-42cc-95b7-0d6d4b0de97b",
   "metadata": {
    "tags": []
   },
   "outputs": [
    {
     "name": "stdout",
     "output_type": "stream",
     "text": [
      "\n",
      "Testing Data Performance\n",
      "Mean Squared Error: 0.1464958190376019\n",
      "R-squared: 0.9646981151809849\n"
     ]
    }
   ],
   "source": [
    "print(\"\\nTesting Data Performance\")\n",
    "print(f\"Mean Squared Error: {mse_test}\")\n",
    "print(f\"R-squared: {r2_test}\")"
   ]
  },
  {
   "cell_type": "code",
   "execution_count": null,
   "id": "39700667-0798-4a8f-a33d-318b2aa260a2",
   "metadata": {},
   "outputs": [],
   "source": []
  }
 ],
 "metadata": {
  "kernelspec": {
   "display_name": "Python 3 (ipykernel)",
   "language": "python",
   "name": "python3"
  },
  "language_info": {
   "codemirror_mode": {
    "name": "ipython",
    "version": 3
   },
   "file_extension": ".py",
   "mimetype": "text/x-python",
   "name": "python",
   "nbconvert_exporter": "python",
   "pygments_lexer": "ipython3",
   "version": "3.11.7"
  }
 },
 "nbformat": 4,
 "nbformat_minor": 5
}
